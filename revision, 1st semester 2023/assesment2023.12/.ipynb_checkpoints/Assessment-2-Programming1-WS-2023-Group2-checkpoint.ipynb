{
 "cells": [
  {
   "cell_type": "markdown",
   "metadata": {
    "deletable": false,
    "editable": false,
    "render": true
   },
   "source": [
    "# Programming 1  (Group 2)\n",
    "\n",
    "> ### Assessment 2, 19.12.2023\n",
    "Timed: 90 Minutes (1 Minute per point allocated to the question)\n",
    "\n"
   ]
  },
  {
   "cell_type": "markdown",
   "metadata": {
    "deletable": false,
    "render": true
   },
   "source": [
    "## <span style=\"color:red\">Student Name</span>\n",
    "> Enter your name here \n",
    "## <span style=\"color:red\">Student ID</span>\n",
    "> Enter your ID here"
   ]
  },
  {
   "cell_type": "markdown",
   "metadata": {
    "deletable": false,
    "render": true
   },
   "source": [
    "## Objective of this assessment\n",
    "\n",
    "Ensure that the students have gained the necessary programming skills during the semester by practising the optional exercises provided. \n",
    "\n",
    "> This is a offline open book exam. Students are not allowed to access the internet during the exam. Any external help, e.g., Google, ChatGPT etc is strictly prohibited. Do not submit any code you may have prepared before the exam! All exercises are meant to be solved during the exam - <span style=\"color:red\">I N D I V I D U A L L Y! </span> \n",
    "\n"
   ]
  },
  {
   "cell_type": "markdown",
   "metadata": {
    "deletable": false,
    "editable": false,
    "render": true
   },
   "source": [
    "## Q1: Working with Files <span style=\"color:blue\">&nbsp;&nbsp;&nbsp;&nbsp;&nbsp;&nbsp;&nbsp;&nbsp;&nbsp;&nbsp;&nbsp;&nbsp;&nbsp;&nbsp;&nbsp;&nbsp;&nbsp;&nbsp;&nbsp;&nbsp;&nbsp;&nbsp;&nbsp;&nbsp;(20 Points) </span>\n",
    "\n",
    "\n",
    "Given is a text file, which has 1000 passwords. Unfortunately not all these passwords fulfill the minimum requirements for a strong password. Write a Python script to determine how many of these passwords **meet all of the following criteria**: \n",
    "<ul>\n",
    "  <li>The password must never begin with a digit (0-9)</li>\n",
    "  <li>The password must consist of at least 1 underscore character</li>\n",
    "  <li>The password must consist of at least 2 upper case (A-Z) characters</li>\n",
    "  <li>If the password starts with a small case character (a-z) it must also end with a small case character.</li>    \n",
    "</ul>"
   ]
  },
  {
   "cell_type": "markdown",
   "metadata": {
    "deletable": false,
    "editable": false,
    "render": true
   },
   "source": [
    "### Enter your answer for Q1 in the cell below. Add any additional functions, code you may need. But the entire answer must be in this cell."
   ]
  },
  {
   "cell_type": "code",
   "execution_count": 1,
   "metadata": {
    "deletable": false,
    "render": true,
    "ExecuteTime": {
     "end_time": "2024-01-16T17:17:12.412316Z",
     "start_time": "2024-01-16T17:17:12.376299Z"
    }
   },
   "outputs": [
    {
     "name": "stdout",
     "output_type": "stream",
     "text": [
      "['wlFTByR3NCgb\\n', 'pHilP46SdxDk\\n', 'u9nB_8j939HD\\n', 'ngJufCp3p9SI\\n', 'qjhXFC5n_AyE\\n', 'T0Uwpzadsa_z\\n', 'oSFSdCnOSM3x\\n', 'CGX42UDdB4Gn\\n', 'Ta0_10rIn1Ly\\n', 'CUK3302_IaJW\\n', 'Ukum_IUAyXGM\\n', 'K_mRALLlQ5Lt\\n', 'Z_TwXQRD96_N\\n', 'fvEWV3C0t1DY\\n', '_ZJ8VUWk_X9i\\n', '0Lj3xG2o92Ev\\n', 'dA3Bco3fhI9_\\n', 'G2UT0oavzb8z\\n', 'nASCBmXKFjF6\\n', 'aN6Q1Yg5soJr\\n', 'o_SK_OY_LKvc\\n', 'Bi_3E5_j4voi\\n', '1H2x_xW_y2rm\\n', '9IIh8W_i_lA8\\n', 'T5TATHdW0Ub5\\n', 'Nla8Fq_izJ2P\\n', 'rHwpRGq5vfSe\\n', 'npFSia5i_tjo\\n', 'CdT68KgK_bz_\\n', 'a8m_6gozwfyi\\n', 'uM1Dy_nJhS_Q\\n', 'jhxYLQ0bua65\\n', 'ZwCeFe4KSgNt\\n', 'OS4Ngx9qAC7s\\n', 'JtY2uTOk9bHR\\n', '_eeLjH7Bl2bz\\n', 'iZo80aGUb7S_\\n', '3e_Mm3YaKVsM\\n', 'e7kq5Br945_j\\n', 'Ph05ayMCPvwZ\\n', 'TC_0gGQ5jr7z\\n', 'AbCDyGxPp_dE\\n', 'qY5rebJ_d8a0\\n', 'zRpO3KajIRMc\\n', 'd_FsfYN7zYOk\\n', 'CMx5nKNLwY1A\\n', 'dkzvMXn_Uny7\\n', '9lETHG_O_tSb\\n', 'g7nD_K_3Y_2Y\\n', 'KuXD_gpUQUqV\\n', '6jwLTOvAOejE\\n', 'FHoh2YUwdpPk\\n', 'rcxrEM_M0UM9\\n', 'GyKkLVmgO48U\\n', 'YyVbDX9__0wi\\n', 'm8G_B5nyZaDi\\n', 'ByJBpW1gs_SH\\n', 'LyecjW_pJYJ6\\n', 'XSn4kg5D9qfJ\\n', '59E3mJON8h5o\\n', 'J22OIyLJWoTr\\n', 'ccL6tVKWnPB0\\n', 'ulAdQCVDSapM\\n', 'QpvvP_APpZ29\\n', 'R6axqt50qwdR\\n', 'dgDbv5vVGhCy\\n', 'cmgBPDs6Ki__\\n', '3iMbAfxOQGl5\\n', 'RnqJDulgln3W\\n', 'JlZPO_7E5HyE\\n', 'ZyRxEdElDIMo\\n', 'ibTAFHsffocF\\n', 'Uxl_34iD7V_f\\n', '_GEWXOxsXcbE\\n', 'U6pMu_oPFBXF\\n', 'jFT_i_aJFCaA\\n', 'sUVPVGxlNPq_\\n', 'HwJ8Mc6DYWAu\\n', 'FSfDWf_rlE9E\\n', 'D33r_Qu18OJ5\\n', '3pqsqum8xpHY\\n', 'MzFIfYe3icuS\\n', 'CgcbZNqwKgot\\n', 'rgNlOd1A76_j\\n', '7LzFSjKq_aZ2\\n', 'IXD9l_xjixrq\\n', '0Ido2KpvVyk0\\n', '96DhEMiy60pR\\n', '8sgklBdps_8c\\n', '1z_M6XX3N1d3\\n', 'GuxCx8w30P__\\n', '_rTbc5MJS3eF\\n', 'MjIvQutE__g6\\n', 'gZPzT6HlsLqr\\n', 'xcO9rQJcfz8P\\n', '1H7GdsVPbRhf\\n', 'h1BYleTSG374\\n', 'wyLKCEH0JJVQ\\n', 'EyTptTAi4fCB\\n', 'qVFzZbAqOu_S\\n', 'nO63yrt_zM0h\\n', 'kWck_HLyKZSu\\n', 'EcbkZK3jssqa\\n', 'bXb0HC9rYv6B\\n', 'wShA9lXa9Pht\\n', 'twePYmpuqiOe\\n', 'RFepnS_Bh4Eo\\n', 'FVuz8_z_DYD_\\n', '_dZqSPsExXWS\\n', 'y7_jcO6XaZzI\\n', '_6aBR_Harmcv\\n', 'FS48eeI4WOK5\\n', 'iQvUJCSvy0kZ\\n', 'OrfDTmnTBsEA\\n', 'Oala_02bwyYo\\n', 'f0mVB7zXj_2i\\n', 'gupSWtnCv7wu\\n', 'XhBJDL8TqWjg\\n', 'vyROdbLTSMaX\\n', 'Y3EyGPQU_Rbo\\n', 'Uz91nOmCd_P0\\n', '6xwnLEH_a9Rv\\n', 'z4_dOig9erAm\\n', 'Wf3EUt1qdPYM\\n', 'wII7_BCyDM0o\\n', '_aBwGn12yEO1\\n', 'x2kxWyRpYAXz\\n', 'Q7RWq8L_FHBk\\n', 'u3_UQeBPjSUO\\n', 'XYtWdVznXJTx\\n', 'lQhgtCp_Evsj\\n', 'RofrIq36TG7f\\n', 'e9chEzOqMdDJ\\n', 'qL4XqiHxoiuZ\\n', 'x_BXV4hyaNAl\\n', 'qXG_BmGlf4pv\\n', 'r6StU4mTA5qZ\\n', 'PMgKwOkWTOjM\\n', 'W0IGos8MLwYN\\n', 'UuRw3Dc1Xbuz\\n', 'hRopBimWE5gz\\n', 'qOwN_8qQ_noB\\n', '_2SkatWctVYB\\n', 'NaIfcBhZX5Gx\\n', 'f5_2EC8GA_oD\\n', 'pkSoh_5q3FoR\\n', 'N39l9Nt8_VmA\\n', '6yB_RvP8RKAj\\n', 'bs8FlYt_Wu9A\\n', 'jufS3gdhmV22\\n', '1WJBixZx76Ky\\n', '3Ys_X16lQlym\\n', 'jTUGSOpXuW5f\\n', 'lYVrV1ddlt_9\\n', 'iSi0a8naIfXU\\n', 'gBq_Z_G8ayoh\\n', 'WqGQhVYLIo0R\\n', 'bIGF7nO_Q6tU\\n', 'Pb3K1qa9gcr8\\n', 'dUtu5DUIV__d\\n', 'YMlP02rlUsvy\\n', 'hF_HrF3F_Ujf\\n', 'lf96Ef0_8Vna\\n', 'py_Wx3q9uSiW\\n', 'lGrxPPOBB5Gg\\n', 'DJsCckaFQcjB\\n', 'iW4_jJOQohsg\\n', 'wgjNqBPtSmQ7\\n', '_40XmQN8Yhj1\\n', 'scbU_5_viaYI\\n', '_X49VzcCmwsX\\n', '37i_PkCBJc2S\\n', 'E_Em2APq4eNX\\n', 'f2_fDHs__bSD\\n', '6_Fr_k3n8g07\\n', 'uMrDOkXJJ_O2\\n', 'uWGfDfugAdN7\\n', 'otWPOgpkONKy\\n', 'WHSvYJZ5GAx6\\n', 'b1_4MPLGClh9\\n', 'IQEkQ8FrWDuu\\n', 'zXnht9WkipKo\\n', 'WDLrK3bFWvZZ\\n', '1a8f83GgDSsJ\\n', '6E_HqMsrHG9_\\n', '9D_8tft1Gygj\\n', '_URnC4D5vv72\\n', 'p5Lw469M10Om\\n', 'mlmAIRaUYsAR\\n', '7VJ881qqjM3M\\n', 'HdtYn8Cx9vHc\\n', 'Qqi_HweBx__5\\n', '5x_Ck2k11oRO\\n', 'Nh_ZxzxQ0TSC\\n', '75X_bPeGeCfI\\n', 'qOy_9E_EPn3A\\n', '3zbgjkFobECc\\n', 'Su2tr1x9j0ww\\n', 'ouwFAX9ET_fl\\n', 'xZ5jmE4Y50N5\\n', 'i9C_26wqQLEh\\n', '5uz1KoNLsQeH\\n', '9k0bn0gNJjeT\\n', 'pLk1_i8_84k6\\n', 'iI5PchQsnZbs\\n', 'UES2HT19WCgy\\n', '4UIyR7Osj_Vb\\n', 'IvpSoDqrDF8c\\n', 'bS_eTIsEb_g_\\n', 't_psv4_GDbys\\n', 'd3L5m__iPhBj\\n', 'XwF_ghIDKb_U\\n', 'K3a3Ok_6LQIC\\n', '_NruiMpSm7Wq\\n', 'M5U_3_43OB7n\\n', 'uUyP3U7HTly0\\n', 'zbaQpekHITJn\\n', '_7FlraWXMOjJ\\n', 'YStijUMHp1cv\\n', 'VlTLWiTMtK_8\\n', 'Nw0Fha8Ust_P\\n', 'FlIGLn5CwKPu\\n', 'HX_BxlumyFDc\\n', '8NK3_tlHBm2a\\n', 'yURecjIaNHMU\\n', 'M_PSFjPcUuC_\\n', 'k0CIHxF7x_RJ\\n', 'eHDzeJnG0nUt\\n', 'fswIK6zWJOB7\\n', 'fiaF6jXVwV8I\\n', 'zBl7jnofiMCZ\\n', '217q4Iv79vUG\\n', 'RyKdGRY9g8v_\\n', 'DQGm4iedXpdG\\n', 'PAi59QQYY_hS\\n', '5Q3Os4oOht_6\\n', 'KaYepBRAf0r_\\n', 'mO__4g0WxPId\\n', '1zrbuC2q4LZQ\\n', 'wHx_xK4YT_Ni\\n', 'R_jpjelmVgSa\\n', 'p_i_lQ2IS1x1\\n', 'NZdczhIefMyU\\n', 'UjdFb_052JEn\\n', 'uagMFOqTtauI\\n', 'rII8u_unLM7_\\n', 'aybhxIxq5hyv\\n', 'y_PSQqyqKDXF\\n', 'fci3HN47DG1R\\n', '5QGL_pCfYB3c\\n', 'gJd_64GlALGR\\n', 'QwXY4m2SK_Fd\\n', 'Y11zqZU3yA2f\\n', 'lQ0_kBehxrVZ\\n', 'YJ_J21Hcci_c\\n', 'BY_x0iz2FsmA\\n', 'DrS1WITinvcM\\n', 'X6NKQlurXqOy\\n', 'FB9_TVVe3zi3\\n', 'oiwUNhn_Z8fr\\n', 'RUtld_SCjd2q\\n', 'xH8C2oXEJfke\\n', 'ao_LGxLgwfEI\\n', 'G6tkC5zVJZhb\\n', 'hDm89SXAo3li\\n', '1wf6cSGrYFd1\\n', 'bwtUnJc_FsQJ\\n', 'VjLCBYmQXaHO\\n', '50dLbBjhEJo_\\n', 'kIlZKWvueQSm\\n', 'Tya7_jeDPIEH\\n', '6eywVMczA_M4\\n', 'arGgdnA_V2j5\\n', '8_1zoRRuEr7w\\n', '6pTnvl8vcWEx\\n', 'dGNsydvE_rhL\\n', '_A3vgttJTch_\\n', 'hcfgjaRmBaHQ\\n', 'QPgZkMsqTAZH\\n', '_NKBSqUkuSxB\\n', 'nlH_PN63TF_C\\n', 'BVyFidWsDn77\\n', 'J7kUHmpp3OQO\\n', '9YLMJWAtxIsc\\n', '8_d07IKk3sY3\\n', 'uFWrgfT8mOeB\\n', 'YJ5CYWGzNiK5\\n', 'sX4G03_zReyd\\n', '0kWFuyuVmEn8\\n', 'yjsNy7x_2hU2\\n', 'o4_vvG4BIFB_\\n', 'noQKkUm_Dp_o\\n', 'HjJldxzFy9EZ\\n', 'Pl9qfj5Z1t9q\\n', 'qE0A_u_WzCze\\n', 'OYyUrWUJZ_WY\\n', 'xWYHN0Z_qQEe\\n', 'PjvR0bEYLFj2\\n', 'SrQo0SjX7Gl9\\n', 'dyZsqdiP_Wql\\n', 'FjakLcxN32a6\\n', 'TqUf1DQu_78p\\n', 'Y6o3KOuv_Jad\\n', 't8STVYtUVbFJ\\n', 'AiydMSqrtVja\\n', 'fdzrOHIOXBZO\\n', 'ziKJrN7qc25G\\n', 'af_xcD1_lqI9\\n', 'dkBMeSX_n8ul\\n', 'CnfkEIcHVvKX\\n', 'YXr_etBZ9oEK\\n', 'dTfQrnVGHH0V\\n', 'Ngy7nDb0tw17\\n', 'bd6qp2kU8X8A\\n', 'AA_UWpJdbZS6\\n', 'r67eTVfhjUkL\\n', 'bPfggGfBUrlw\\n', 'XASo7XtaHi2J\\n', 'cukC7m9qma7m\\n', 'daYIP6a_InaY\\n', 'PKwVBsDFSi5y\\n', '4ml_o7_hHX_9\\n', 'je_d7TfhQyb7\\n', 'ISO_DDpkWc5_\\n', 'akE7V1MCUncp\\n', 'ULVU10o176ij\\n', 'wkfrN_QM5iUh\\n', 'H_TwSWtmiKew\\n', '5DMtjbsQqVIX\\n', 'w_EI_jpHq2_i\\n', 'btKmaw3XX8u5\\n', 'Om9r09ZZCwEI\\n', 'baZjfCCsZJaW\\n', '6gdAlcC_wlxH\\n', 'kD9o6FfK0Ke_\\n', 'CCniY__cMNa3\\n', 'YPGVtFM_gDbx\\n', 'uQXuxrere0Ym\\n', 'B4ieJotdjRk5\\n', 'oZIU9kjPcljz\\n', 'qlGwPbrb5uP1\\n', 'HZhgYqy6sAhx\\n', 'diH___4wHeS_\\n', 'YR44rQnh__xk\\n', 'i8pfPD_tQAMn\\n', 'zj6G1f_ft32o\\n', 'yO67JKQDN5XO\\n', 'UvKgnpG4XDkO\\n', 'KfwfG_0CKfSy\\n', '1ufcP_2pjSjd\\n', 'rbgGzGkFvoXv\\n', 'p9lBOBShkcwg\\n', 'RONJyNo4djB0\\n', '_q0LY86dlvj_\\n', '2CCqXDeeLOtN\\n', '81a0mcJGXQFv\\n', '0AFP66xWyFrL\\n', '8PgIm0B3rM_t\\n', 'O__YSFi_kr_S\\n', 'tXCU5ZY5L9z9\\n', 'ardkZ5Od6Aqm\\n', 'rnSrc0uczjGL\\n', '7ggXTYj_LbJB\\n', 'BJuSQTybFdDs\\n', '1VtEakyL12c2\\n', 'dcRX_yjZvQgW\\n', '2KIv7xmal_2_\\n', 'kW_MEUARcSKK\\n', '_G1ad3Vqqx_W\\n', '_sdReGlAESfA\\n', 'rB7kTO5vJaVy\\n', 'JOEI_87NDMz0\\n', 'bpAtMPO0whu8\\n', 'LkK_aNayT5uJ\\n', 'FKc_oTZWl9I_\\n', '7CbW8ftoAaOW\\n', 'T1gxOJ5fTM6J\\n', '41je3w6IVRp_\\n', 'XT1_nn8rH1Wb\\n', 'xpcd9Ts4e_Hf\\n', 'M_cxzqQ7EXby\\n', 'XL1DVeLXtOeD\\n', 'ztyB__TFF4hr\\n', 'kX31XJp_1Ce8\\n', 'JALdnF_wogP7\\n', 'xUpZE9XUJWFI\\n', 'e3JakckJoMbI\\n', '74yXkpr__d5F\\n', 'J_EqOSqY8jZF\\n', '9Htsgi9OhZ6I\\n', 'tX8yXpzc73mb\\n', 'ih2zjGKzJIte\\n', 'jD9AG9ST9Ct0\\n', 'v_eJHwZUPrCB\\n', 'rujv44mQzc97\\n', 'Z_KjRcMqUvxy\\n', 'cjS7y_SW_s_O\\n', 'Mt_YxlHJXuyO\\n', 'F7tv3HFAqjUe\\n', 'XeuLNNTouNcm\\n', 'fggmZEGsG4R_\\n', 'M6Q9xAIgBQ_G\\n', 'cIZ_7ePqf_Ok\\n', 'xZPl3YPW93rg\\n', '_czCehW9nRiJ\\n', 'aui9vrKmg01O\\n', 'co_UAqstJO6k\\n', 'Hxg65Tat39kA\\n', 'WVJXQ904LyxT\\n', 'QCRnZ9oMJRuS\\n', 'AIJqbJiqRdHa\\n', 'yJrSkzaz8hlO\\n', '1wK_jY7haN3T\\n', 'u_hrHsvQ_oHp\\n', 'VAEYK_oyv_7X\\n', 'wAevmkaKCpXx\\n', '3VvMgaJKM6qL\\n', 'eTT6P_YtUeQI\\n', 'xDXjly3W54FW\\n', 'qyFfiIs46OqT\\n', '8_iJhiyJ_CL2\\n', 'o6_KFFQR2Boa\\n', '7x4bgkxiFrRc\\n', 'kOOJMYuvuIK1\\n', 'oTEOSWrZ_aGK\\n', 'Tn_pnoHRFfJm\\n', 'eme__bUjqTR0\\n', 'Ss5k0XwmjaTb\\n', 'FSh_mosRh_gs\\n', 'mtoAGm6pFX9q\\n', 'jy_WRdQSucmh\\n', 'MAeN6eKh_p3_\\n', 'fvjh0DT5bNbu\\n', 'EDMDU4eYV_v3\\n', 'DoTOIiXCRHef\\n', 'at991MaltzX8\\n', 'k46aj3EwU61s\\n', 'j_fPvc_hRx8m\\n', '5yB2tBHAXySW\\n', 'u8F7RTCJtuam\\n', 'Yz_t_vagH_6P\\n', 'K1UYzexKq_ZH\\n', '0wbeLHU_MMGF\\n', 'QeH_peyurMP2\\n', '5lWq3V7cacp5\\n', 'nsXHdZfjQOuE\\n', 'MnhXqHmAr4rR\\n', 'o2m8o7bXdZY2\\n', 't3pYEjOH8yQe\\n', '8VmxPDR3Xw02\\n', 'I51Ls_6v3lcC\\n', 'RAoBKwZSAZDF\\n', 'ljVImMtqy9uB\\n', 'pKoEMhmvyDFB\\n', 'Wb_WSsIUSOfj\\n', 'K1NtbIpG_jxT\\n', 'fh3DDL_F97XT\\n', 'mouWgwcnp_XJ\\n', 'g9bkm9eQPT4C\\n', 'lt36PN__ykgk\\n', 'WUKErQorbpZ_\\n', 'lqza3KX8rmMs\\n', 'AtXkf0OLDNog\\n', 'oQTfhs0fS8GK\\n', 'dPZyVBM3RMVN\\n', 'xsFrO4TYKkXC\\n', '2bpAusxYB_a1\\n', 'vpyKPnHyHHrV\\n', '02II2D6B9xUx\\n', 'OyCNcIAY_WVo\\n', 'DrVWx5b1qRei\\n', 'eUXDlPZFV_FE\\n', '9Bh5pYaDDmD1\\n', 'v10egJnH_y72\\n', '1E_oSqARzplX\\n', 'vtcZR8th7tAU\\n', 't3GjRRZM3QDP\\n', '6u4sp9zOejBh\\n', 'E_ut_8A_vu5D\\n', '9fc1xlMZeTiR\\n', '_b__77_ugj9D\\n', '8pW_cIwUuWcS\\n', 'j9uWH7zj_er1\\n', 'P6_mpbFv94mC\\n', 'ryL_L_U8TrA1\\n', 'DhGfhkbGTKbj\\n', 'r7QQK8S7nzQV\\n', 'RBT74hX8RB_K\\n', 'oaTvffcbDm6v\\n', 'O5RzkytkrAbP\\n', '_hr7J1tZmC1l\\n', 'eVY46GG_xmm_\\n', 'd15UcIJPvIdh\\n', 'qSN59rvOqayL\\n', 'JwYqtTkEy_iB\\n', 'IrkjJULjWlAh\\n', '_bKaQuOJ0qZ4\\n', 't3ODCds8HL0R\\n', 'z4Gkivf6_jba\\n', '4D_jB6_3HMl_\\n', 'YoDj6BA0c4D7\\n', 'CksbFy5_PeLl\\n', 'aFzRh4lEwaNc\\n', 'XEF26dU_lRj3\\n', 'gPeg5OqpzL_n\\n', 'Cut44pA0bzZS\\n', 'HBYJ4AJPeE0a\\n', 'b9sKog7_ejQW\\n', 'Vi_bspxQY50m\\n', 'OWCdICnqI366\\n', 'T_zbWr_h5tiU\\n', 'zF_PUTend8NB\\n', 'wtkuXZbDIj_b\\n', '0q8DJPY2_z54\\n', 'lmQ3uW5hqiPD\\n', 'q9pdYTY8_8E_\\n', 'pbNb7uIH7El9\\n', 'CPrpG5E3_gLM\\n', 'gIG_Xu0dtm_h\\n', '0nP16C1qGSoO\\n', 'guCsjusgn6Jq\\n', 'GwWyPfH2nf_k\\n', 'MxUUQWdEHJiA\\n', '9kNLjE6fhFp0\\n', 'LzcAtXzPB8el\\n', 'H2IdCRJyjGQ5\\n', 'tDdVpM0Ptob_\\n', 'k1Els4JqaoaC\\n', '8Gx_TnOZvM_k\\n', '8_WSQzZc2tHt\\n', 'Z_bXKq_n6BSU\\n', '_ePRJ04id_bQ\\n', 'VCnzlnSl9n5c\\n', 'xQrh6eop_blr\\n', 'aYDqR4XQc0t8\\n', '_R2tYbyfGNZt\\n', 'f1S_JWgf_FGz\\n', 'wAvGf_ytZhQc\\n', 'RSf7PrTZkUw8\\n', '_k6_A2uc_1tQ\\n', 'yXJjqPPq8byP\\n', 'v_kIfKisjERq\\n', 'uWNFkQttQA2J\\n', 'zsnU0gxH4LEB\\n', 'SCQ_h9_DEEHl\\n', 'E__qB_Sgh2zd\\n', 'X7F3Ko7el5Dt\\n', 'LY4wH_iaHz_P\\n', 'h72i_dxpGSd_\\n', '8KLTJyshNwKf\\n', '3DqsY_j1rUw4\\n', 'QfHbXbTtZUUK\\n', 'gbZdcRVXNxD1\\n', 'iLZlXtlniWg9\\n', 'jCGTVEJVIeUt\\n', 'S_Eum5e3hbLZ\\n', '5a_oLBGSdCfx\\n', 'tqHPMcCHp64x\\n', '_ObNqpu6AhIp\\n', '5hfIBlnX7gYE\\n', '5Gf_W99aHv4h\\n', 'fDJU27BLOlS3\\n', 'Fqvf_99xqdha\\n', 'k8pt8_FFN_LN\\n', '0N4HAvdY2z3L\\n', 'IgdQ8_fp_D9c\\n', '2P9ZzNwreufX\\n', 'pKp_c3599fG2\\n', '6ngefOdDYeXx\\n', 'R_Ze67llo985\\n', 'Gbx_4NoZKy4s\\n', 'IqFADhLzqi7P\\n', '4iziTdGPGlze\\n', 'I7ZlouwPOO2Y\\n', 'eSIHLU5329_r\\n', 'WYdQAHpMmjRF\\n', 'P_DYkuk__6t9\\n', 'oVyRYE0wZ3__\\n', '0t5i6Hbew_1S\\n', 'tT5GPMTmpd_B\\n', 'nU_xAamD3ieo\\n', 'LU_QpAGHnt5Z\\n', 'k6lbe10uRzMB\\n', 'e5eEg6H8rrHs\\n', 'z2RcegqkotuC\\n', 'WO_4UYvfuIje\\n', 'uflieyaWS_nf\\n', 'CJuVYk__fuQL\\n', 'AP7u1SLP6XQj\\n', '8mOXHLILK1TK\\n', 'fSqHf8yJgbcd\\n', 'Xk2chkITKSU5\\n', '2vu_nCvTiYis\\n', 'k_1dB0NMNTV_\\n', 'SE2IjhnIbt_L\\n', 'aNGW1olIaPCn\\n', 'OupFmyuFVo1N\\n', 'CO2JFuEOPaHg\\n', 'zt_XVXS5Wgd1\\n', 'RrA1ljzTTPKr\\n', 'tXRb76l1O9ql\\n', 'yOeN_q__GEtD\\n', '1r7Dq04_Kx2B\\n', 'ghm4x9m_JDMM\\n', 'lRh7T6xtNmcM\\n', 'JPyclz5ORtC0\\n', 'nl9XxgihaZ2P\\n', 'UuScv0TEyCTm\\n', 'AQz21Ich_avU\\n', 'HxTlgnqIxmdr\\n', 'HbmNUE_9ZSnP\\n', 'YVCqnQZjHcVg\\n', 'FZ72EdtfvpRd\\n', 'bh4pPQMzGcil\\n', 'VWZ_PG4cgn1q\\n', '7xI4Rh_a2h_T\\n', 'mV1V_OE8xwCG\\n', '_t__OT7JO7es\\n', '2S7s4cE8uuqv\\n', 'GFFRsJI0T2wA\\n', '00BKu6M9mTA4\\n', 'rprvohQ5vKUA\\n', 'QabCp_o8VL9L\\n', '1Mo0uwO3I0kf\\n', 'mR_0_hkO_h_3\\n', '7bJMtRhQAM_w\\n', 'WIbevEJluDvx\\n', 'pQGIZvGlklrX\\n', '1JqrhPp2f5ck\\n', 'na6vDChQSQbt\\n', 'MHLeYASeVORu\\n', 'bpDyhtNDpdcg\\n', 'QR5Ufno_bf_A\\n', 'XLjaOGwIZ_oE\\n', 'i_Wl_J2EbQma\\n', 'SygybUQU_kbE\\n', '6quhizVgtai4\\n', 'bzC2v8HIIfdL\\n', 'h0PxRIGD2GsC\\n', 'DNQcmPFxi21D\\n', 'zV2JseUBKsE7\\n', 'b5B4uPnrUHx2\\n', 'CHibhvjH8jhG\\n', 'sxrJSh5Poym9\\n', 'ZK7FdJ1wCJ9b\\n', 'YTMdD_H5Y5_j\\n', '_3y9OX7w94XQ\\n', 'mHm4HS5erN9U\\n', '8W_v4WmFtN7E\\n', 'nF_M7Hy_6Dxj\\n', '7ChkvrbXMVPt\\n', '1VbIiOH04BIi\\n', 'rHBkVJDoGXum\\n', 'oiEF_E_T86Ln\\n', '6xaEMkjWqTkq\\n', '5ka33xZ9PX7z\\n', 'MjiR_gazcx0t\\n', '21NArldJ3_v7\\n', 'IX9lHwiWQAi2\\n', 'HP_A_hJdJWMT\\n', 'TwLZDl7C7ni_\\n', '_9zAzdHN8N9_\\n', '76a_yeb4N7yx\\n', 'SZz3g40oLZ2S\\n', 'OcaiWJGG_BvX\\n', '_h_Rh_foYnO4\\n', '42eTSPE0AZmP\\n', '51Pldrc_XcXN\\n', 'Vfj_x5_HYsvk\\n', 'GIShuc3AjD3h\\n', 'iC_TaoXAV92L\\n', 'kebIbbdn8KYs\\n', 'xLK_QaRVtKy_\\n', 'zm0MTAO02BTf\\n', 'mEUDXCsWRGb_\\n', 'BXzRxyDbxG7Z\\n', 'Y5vzFBRW_hED\\n', 'TLb4GJMHXC_Q\\n', 'PHbdxHPOO7ro\\n', 'fPoPXTh42KBf\\n', 'QlnpmVB_GGDr\\n', 'qPSnr_OuBlor\\n', 'WYn6e9H34sT_\\n', 'X_K62sARt_wG\\n', 'gJnKkB4UM_tI\\n', 'BtBPfy_eb_vN\\n', 'jJJUGPe2TcJF\\n', 'c_Lllp2pcodk\\n', 'C7VwsP2wQL4L\\n', 'X_33LT54Fwau\\n', 'T6Ytyf_c_xkU\\n', 'sLKzRtOlmE_c\\n', '_9QR6k8f_dNB\\n', 'k2Kr_oktJAHV\\n', 'jAaHYG4lA9z1\\n', '1LcW7FNo49__\\n', 'fgn15EvZUG_a\\n', 'oEDNWhPla_SG\\n', 'gUdlk321FP_k\\n', 'F2kIOSDLXbwJ\\n', 'c0AGy8ZW6uA9\\n', '_Clmt1Ob_cdD\\n', 'PVFYgdMBuQS4\\n', 'PLzcKSH6Igw_\\n', '9sXU8LmUcH3h\\n', '_Fy6aU2upjrM\\n', '6A_jKNwFMGVn\\n', 'Ob2d54cBRffn\\n', 'mNNDUP8InNzJ\\n', 'FNs7MTAvZ_BA\\n', 'lJ7I9E__ED3t\\n', 'ciGOy1iYI8pq\\n', 'TVI8Rep7OzI3\\n', 'fc7ElEkBnD1b\\n', '4ri3w69f_NCE\\n', 'koi45nu_uDw8\\n', 'IET6grix_otU\\n', 'J_9CHjqFDw_T\\n', '_6jscESx4uwr\\n', '_IUnFJUtU4VR\\n', 'zyw9VwjKjM_0\\n', 'JvT8ENsKV327\\n', 'v_N8XNT5g_Fd\\n', 'MnmxXi_hftqC\\n', 'jsCXQMKJzL2Q\\n', 'mNDKDCg64hjf\\n', 'g4a_UaB_VzN9\\n', 'PgBmYHZhDzM7\\n', 'gw0K38tXkQVN\\n', 'HaWZ4KMtUjlK\\n', '69uIRi_wTm0P\\n', 'alAzYXMPdA9h\\n', 'GfXJ4N4ZGxGM\\n', '3qxhDYPogTRL\\n', 'Eq5pmE_lHsrV\\n', 'T2mKDKH0Y4ff\\n', 'WJPHt_KYuBh3\\n', 'R_M_u8y1hFUs\\n', 'WU9sfwU3WhC4\\n', 'EagadqnVT_tl\\n', 'dv_ZBpJ9duCe\\n', 'ItsW6c6UbiYB\\n', '0bo1c_WXapYa\\n', 'NOyKrDnCABo2\\n', 'oFVJmm93k_d3\\n', 'xMl_eaNwIV_J\\n', 'zOTzrC_G4AVU\\n', 'EgOCYvAu4c_Y\\n', 'YNUhpo_llYNB\\n', '1tGV_L_zpQiv\\n', '_f96ervdUF7m\\n', 'aEVZ8xq8woX9\\n', 'jaTkBF8D2Urd\\n', '44DmcrNT_Yqt\\n', 'N_G5lwy668l1\\n', '_SWVNT_6twhy\\n', 'yTy_Cx0G_u3r\\n', 'UL__oaco0CYC\\n', 'XiViXNAKwGGT\\n', 'f1PCZsChHX1O\\n', 'TLph_mzoASoM\\n', 'vO6Jf7Bvcg_F\\n', 'J4i0qS_KFd2o\\n', 'Y_5DX_X9JrSJ\\n', '_b_V8dwEZY3G\\n', 'tu6U7r5iQyOO\\n', '37TmAPjp8GPC\\n', 'CMo_n5fEwkd2\\n', 'ZDDVSFB2M12Z\\n', 'yJsohXLN8W7W\\n', 'NrOqCrf2sSFf\\n', 'JvvJBjvPWU6H\\n', '8aUNPUsKz2_G\\n', 'zgghzOBiwhFQ\\n', '6QPn17tKFA_2\\n', 'rXpp_EB7yG2j\\n', '_wbWO1B_1vXp\\n', '_d1BQ6uCD2mC\\n', 'P7VBWHFrF2_z\\n', '4RygE0H3O2Xu\\n', '_ivARrAWEg4r\\n', 'hHPjhm2NvsZ2\\n', 'J__bV9A_UCms\\n', 'i9eNIkxg2DDN\\n', 'hb5cZ5P_EbhK\\n', '6sVLB_MgJd5_\\n', 'h3WJDKWDWGaL\\n', 'UTYN4nAcrx9V\\n', 'eRt02auLu0jR\\n', 'dSqA_bpaFYJU\\n', 'iPOwuDvehotk\\n', 'A4MQN3_uibYE\\n', 'GR4i5S_68leS\\n', '7FDky5RUOYhE\\n', '9HsG5FID2pUO\\n', 'qRbs8lHMhx3t\\n', 'T7Rj_z1_2iv6\\n', '3kJw5ArWGq5O\\n', 'bWplOjlA6iIJ\\n', 'plUlSv_uyeF4\\n', 'H4yjtfJSPJg8\\n', '3CLigDrJG_sj\\n', 'AXp8u5BNoF_2\\n', 'cD4wh_ezP_4p\\n', 'DyYH3_7GS69R\\n', 'T_3waOStj5D_\\n', 'fninuQ3fqFUF\\n', 'b_OgCzQ2yELK\\n', 'nsRC5iWRvVrR\\n', 'b1Dqn8usnJrz\\n', 'HGXbCa5JGUI_\\n', 'YeP19x_SxTs9\\n', 'JpBBpHxZBKBj\\n', '0i_X_R_yMk16\\n', 'aTLpdVNHKbzo\\n', 'K25_7UgaJeBl\\n', 'V0BoxKw5Xv__\\n', '1xcPu_xgNFL1\\n', 'GRm9Q_B1j3Si\\n', 'JvJESEFTgLHA\\n', 'hH8_FNtlBfT0\\n', 'V_q0f9IoHLGp\\n', '6e7ALMrAO9FZ\\n', 't8ziFkaPwCZT\\n', 'yg5k7_6_d_V5\\n', 'o_I798NhpmSq\\n', '144U0UjmUEtX\\n', 'BQD5P0JjurvY\\n', 'MWMAPD7l452b\\n', 'WivMsuQQg_Wm\\n', 'tO2nzi7cq9l7\\n', 'f_RIZddv_dhH\\n', '3teiRTx3KgfP\\n', 'YmsEsU0ZSeps\\n', 'bVcrtFPK_por\\n', 'r55Kdz_jvlDU\\n', 'YnztvLkc4pDA\\n', 'sj20skURKehq\\n', '_2aoR4YXGRNT\\n', 'UL61Oz_7CjSU\\n', '1dP0l5AOOHBr\\n', 'QX_NM94McLV_\\n', 'P8_Tkk_mcV5m\\n', 'UTh9Fk_mB1yA\\n', 'PKQN43eDlqW_\\n', 'iE46Im_gR_SP\\n', '6SRB2Wiu7MZ0\\n', 'kA6rzlQoJnMy\\n', '_YdKOUP7Oub0\\n', 'V0jrTgzu7nta\\n', 'y0CQK6BGq5Uh\\n', 'UJIqgKEnZTEc\\n', 'xLWx5zhOfEYu\\n', 'F5m0ful9fKIE\\n', '7p0dq3QgaiHY\\n', 's8K7_A3W1rPa\\n', 'zKj3rqp0rOKv\\n', 'NF_hawGNn6C0\\n', 'F3HP5tiGVGdN\\n', 'DzW8_kZ0LRTs\\n', 'ZR3alOWg3hMp\\n', 'SXK9dZDbYTL9\\n', 'R2h7XlCPnzVn\\n', '_cESR6Qnlz0x\\n', 'VQUFNdOHt2Cy\\n', 'Zu7AW_oSGbgj\\n', 'yEuPaZJl2_9y\\n', '6HzwrToftK9b\\n', 'R_8GB3viTyZA\\n', 'DwcucsJ_1_la\\n', 'KCtg8DhiutqD\\n', 'e_ox80XcaEmK\\n', 'bCiYFmwQrrwK\\n', '035eBbMSbP_V\\n', 'hTqtnUKzjd7X\\n', 'uGhMD4gzG02q\\n', 'r4fwCBJ4y_Nv\\n', 'tYnyfi4EHiet\\n', 'Db2Ks0pX2j3h\\n', '40At12X_TprC\\n', 'QMriUV8KO9y3\\n', 'xt_yj8T_5IUz\\n', '8dy_Zex9uVzT\\n', 'T73xKAVsohqu\\n', 'WXzIHy_x8CyT\\n', 'R88N2unC3JCi\\n', 'KeOnqiTYf_e6\\n', 'B4fAt6CT7L5v\\n', 'Rcid9Eucu5IN\\n', 'lIY_TGMfL7oV\\n', 'a_W289QeFUEp\\n', 'YnPC2jabLdRr\\n', 'Ce_RPuxIFY_e\\n', 'lOv_zmt9Pr_J\\n', 'Jxp52md7DkV6\\n', 'pVwzUvTP5wzq\\n', 'TNHzV3FTkvZT\\n', 'lXj_aVk_YFRh\\n', 'qv2ZahwkMqte\\n', 'h_OCT_5YtLLL\\n', 'NGI9PlI5_j4N\\n', 'X60qDLuPm17f\\n', 'Xw2Z4Tu_jRVe\\n', 'bc4vFYYBZ_So\\n', 'hEn_EFHP_tbQ\\n', 'jsZkiMN_C1hQ\\n', 'GfeSHUhRBvtN\\n', '8QcpD8S4Sl_R\\n', 'l7d3cJS7g6FO\\n', 'DFJl073s_WEx\\n', 'rS__p76v_H1A\\n', 'RVDe5GGG8cpb\\n', 'PkRhUOGZy334\\n', 'd7FPVCaNp6mQ\\n', 'qJO5__4LJN_m\\n', 'bSSXRlyU1AcE\\n', 'oiw8aTmMv_SA\\n', 'BtX0nFcmB_P0\\n', 'j_1jH59f9f6_\\n', 'VMWuQz2czzNd\\n', 'RuGRbAA_lw5U\\n', 'n022udl_2ubU\\n', 'fZ5YaBdwZY4Y\\n', 'QMgGPO18MHa4\\n', 'z5Ibx4eHIZPm\\n', 'fCcr1fvUkAoK\\n', '_n0fC9ZzHZ85\\n', 'NcrW4dIaAo1E\\n', 'NzJmIVdQjSVt\\n', 'wSkjKKYSK4I_\\n', 'eksmKLdLf_R9\\n', '9EZq63Ta2YYW\\n', '4S6dAo2jwCsh\\n', 'rPYD5T2CiNJ5\\n', 'Mmi0XUQcGX97\\n', 'faOot6uc_SqU\\n', 'kI0gSpdKXDnn\\n', 'ETwad7bqdALj\\n', 'G06vid7_rM_m\\n', 'sEHqGojrQqUz\\n', 'Md_HeyA_oee0\\n', 'Q9rUDlrG8QPR\\n', 'tw_c5dsr__BS\\n', 'xOmCvS7aS2qm\\n', 'l3hZaBBmGLZS\\n', 'qPv_13s9qVhG\\n', 'zChlLJAEl0az\\n', 'O_JHaJaLwDF_\\n', 'f8DKxVi4U0SI\\n', 'FRqVY2qiRSZ_\\n', '6nSVYGQ_mp1w\\n', 'GbHr6LAFWaMD\\n', 'DGSAuXXf5kkQ\\n', 'kzJeiVd0df_Q\\n', 'a_I7lMqB1kse\\n', 'SvY9b_CP84pv\\n', '6_Xqr6GnAdxd\\n', '72VwNcPb6_j5\\n', 'MViQuXnzndF_\\n', 'cC_1fJAWN6ok\\n', 'X6sWJz50U_6x\\n', 'z_U03DgGx9rs\\n', 'TlfxknTXegQH\\n', '3x6jAPlypuXd\\n', 'v7iUnctIuHgD\\n', '_r1v_iuQL4Es\\n', 'hSZRBkCBOY_9\\n', '0mpFY_s2BTke\\n', 'FWdj9sJPfGfX\\n', 'jaK75XXVL_cP\\n', '2YGRtoBRIvSf\\n', 'N5UgS_xGfrJF\\n', 'Ud_Di_TCCVDF\\n', 'dVWF8bpQ0n_1\\n', 'HEvu7B9N4__l\\n', 'pnQBXym7e8Hj\\n', 'RfAM9Posusig\\n', 'eBqZT9sNiW7v\\n', '_eEhsosQb_RO\\n', 'nDxybtJwPLDr\\n', 'CPxxe29COXQD\\n', 'dhDwxrMbab_Q\\n', 'ETE_IVajpn8E\\n', 'bJSJzWim0KBA\\n', 'fw84OWDT_TA0\\n', 'zWKvass6WpMx\\n', 'YBegvL_L1O0w\\n', 'aWpFGA1n6Ven\\n', '5dmtSXnHvjQS\\n', 'eigE_jVdJ89_\\n', 'Y8KWlb4_U1cg\\n', 'dhUA_PcKYCJY\\n', 'kTPs0J2SFosB\\n', 'xCy__BRsdRCo\\n', '7uhkZuOgoEPR\\n', 'FQmHIBzEyTVp\\n', 'z1liDA6ra_6m\\n', '6MeOn_anvXee\\n', 'oKhqHvjlO7j9\\n', 'WUW_wMD8GBVT']\n",
      "0\n"
     ]
    }
   ],
   "source": [
    "\n",
    "# Solution for Q1\n",
    "def countStrongPasswords (filename):\n",
    "    with open(filename) as f:\n",
    "        text = f.readlines()\n",
    "    print(text)\n",
    "    return 0\n",
    "        \n",
    "        \n",
    "\n",
    "\n",
    "# Test your code \n",
    "print (countStrongPasswords(\"passwords-examples-txt\"))\n"
   ]
  },
  {
   "cell_type": "markdown",
   "metadata": {
    "deletable": false,
    "editable": false,
    "render": true
   },
   "source": [
    "## Q2: Palindromic Square Numbers <span style=\"color:blue\">&nbsp;&nbsp;&nbsp;&nbsp;&nbsp;&nbsp;&nbsp;&nbsp;&nbsp;&nbsp;&nbsp;&nbsp;&nbsp;&nbsp;&nbsp;&nbsp;&nbsp;&nbsp;&nbsp;&nbsp;&nbsp;&nbsp;&nbsp;&nbsp;(20 Points) </span>\n",
    "\n",
    "A palindromic number (also known as a numeral palindrome or a numeric palindrome) is a number (such as 16461) that remains the same when its digits are reversed. The term palindromic is derived from palindrome, which refers to a word (such as rotor or racecar) whose spelling is unchanged when its letters are reversed. The first 30 palindromic numbers (in decimal) are:\n",
    "\n",
    "0, 1, 2, 3, 4, 5, 6, 7, 8, 9, 11, 22, 33, 44, 55, 66, 77, 88, 99, 101, 111, 121, 131, 141, 151, 161, 171, 181, 191, 202, …\n",
    "\n",
    "All palindromic numbers that are also square numbers is given by a sequence such as 0, 1, 4, 9, 121, 484, 676, 10201, 12321, ...\n",
    "\n",
    "Write a Python Function called \"palindromicSquares\" that takes an input parameter **n** and returns a list of **n** palindromic square numbers. For example, **palindromicSquares (6)** should return [0, 1, 4, 9, 121, 484]\n",
    "        \n",
    "### Enter your answer for Q2 in the cell below. Add any additional functions, code you may need. But the entire answer must be in this cell."
   ]
  },
  {
   "cell_type": "code",
   "execution_count": null,
   "metadata": {
    "deletable": false,
    "render": true
   },
   "outputs": [],
   "source": [
    "# Solution for Q2\n",
    "def palindromicSquares(n):\n",
    "    pass \n",
    "\n",
    "# Example usage:\n",
    "result = palindromicSquares(16)\n",
    "print (result)\n",
    "\n"
   ]
  },
  {
   "cell_type": "markdown",
   "metadata": {
    "deletable": false,
    "editable": false,
    "render": true
   },
   "source": [
    "## Q3: JSON Files <span style=\"color:blue\">&nbsp;&nbsp;&nbsp;&nbsp;&nbsp;&nbsp;&nbsp;&nbsp;&nbsp;&nbsp;&nbsp;&nbsp;&nbsp;&nbsp;&nbsp;&nbsp;&nbsp;&nbsp;&nbsp;&nbsp;&nbsp;&nbsp;&nbsp;&nbsp;(30 Points) </span>\n",
    "\n",
    "You are given a JSON file with data about people. The goal is to use this data and create a visualization of the number of VIPS in each country. The code for the visualization is already given for you. Write the missing functions to make the code work. \n",
    "\n",
    "**def getCountries(filename):** Returns the list of countries, where the people come from based on the data in the specified file. e.g., [\"Brazil\", \"Nigeria\", \"Mexico\"]. This list should not include duplicates, i.e., one entry per country only. <span style=\"color:blue\">(15 Points) </span> \n",
    "\n",
    "**def getVIPSPerCountry (filename)**: Returns a dictionary of items, where the country is the key and the number of VIPS in the country is the value. Example: {\"Brazil\":32, \"Nigeria\":12, \"Mexico\":5} <span style=\"color:blue\">(15 Points) </span> \n",
    "    \n",
    "        \n",
    "     \n",
    "### Enter your answer for Q3 in the cell below. Add any additional functions, code you may need. But the entire answer must be in the following two cells."
   ]
  },
  {
   "cell_type": "code",
   "execution_count": null,
   "metadata": {
    "deletable": false,
    "render": true
   },
   "outputs": [],
   "source": [
    "# Solution for Q3 part 1 \n",
    "import json \n",
    "jsonDataFile = \"people-json.json\"\n",
    "\n",
    "def getCountries(filename): \n",
    "    '''Returns the list of countries, where the people come from based on the data in the specified file. e.g., [\"Brazil\", \"Nigeria\", \"Mexico\"]. '''\n",
    "    # replace the hard-coded list below to calculate the values based on real data from the file \n",
    "    return [\"Brazil\", \"Nigeria\", \"Mexico\"] \n",
    "    \n",
    "    \n",
    "\n",
    "print (getCountries (jsonDataFile))\n",
    "print (len (getCountries (jsonDataFile)))"
   ]
  },
  {
   "cell_type": "code",
   "execution_count": null,
   "metadata": {
    "deletable": false,
    "render": true
   },
   "outputs": [],
   "source": [
    "# Solution for Q3 part 2 \n",
    "def getVIPSPerCountry (filename): \n",
    "    '''Returns a dictionary of items, where the country is the key and the number of VIPS in the country is the value. Example: {\"Brazil\":32, \"Nigeria\":12, \"Mexico\":5} '''\n",
    "    # replace the hard-coded set below to calculate the values based on real data from the file \n",
    "    return  {\"Brazil\":32, \"Nigeria\":12, \"Mexico\":5}\n",
    "    \n",
    "        \n",
    "d = ((getVIPSPerCountry (jsonDataFile)))\n",
    "print (sum(d.values()))"
   ]
  },
  {
   "cell_type": "code",
   "execution_count": null,
   "metadata": {
    "deletable": false,
    "editable": false,
    "render": true
   },
   "outputs": [],
   "source": [
    "# Do not change this cell. It simply plots the data returned by the functions above. \n",
    "# Run it to see the results\n",
    "import matplotlib.pyplot as plt\n",
    "\n",
    "countries = sorted(getCountries(jsonDataFile)) \n",
    "\n",
    "# Plotting the data\n",
    "plt.figure(figsize=(8, 6))\n",
    "\n",
    "\n",
    "# Plotting the first series with label\n",
    "values = sorted (getVIPSPerCountry(jsonDataFile).items())\n",
    "values = [y for (x,y) in values]\n",
    "plt.plot(countries, values, linestyle='-', linewidth=2)\n",
    "\n",
    "\n",
    "# Adding labels and title\n",
    "plt.xlabel('Countries')\n",
    "plt.ylabel('Counts')\n",
    "plt.title('Number of VIPs per country')\n",
    "plt.xticks(rotation=90)\n",
    "\n",
    "\n",
    "# Display the plot\n",
    "plt.show()"
   ]
  },
  {
   "cell_type": "markdown",
   "metadata": {
    "deletable": false,
    "editable": false,
    "render": true
   },
   "source": [
    "## Q4: Easiest Question <span style=\"color:blue\">&nbsp;&nbsp;&nbsp;&nbsp;&nbsp;&nbsp;&nbsp;&nbsp;&nbsp;&nbsp;&nbsp;&nbsp;&nbsp;&nbsp;&nbsp;&nbsp;&nbsp;&nbsp;&nbsp;&nbsp;&nbsp;&nbsp;&nbsp;&nbsp;(20 Points) </span>\n",
    "\n",
    "Imagine, you are a lecturer who has 100 students in class. The students attempted an examination with 10 questions and the lectuter had to correct all of them :-) After the correction was complete, the lectuter added the results to a python dictionary, where the name of the student is the key and the list of points achieved by the student for the different questions is the value. For example, the dictionary with two students would like the following. The order of numbers in the list is the order of the questions in the exam: **Question 1 to Question 10.** \n",
    "\n",
    "    {'student0': [3, 9, 8, 9, 8, 4, 2, 8, 4, 9], 'student1': [8, 7, 1, 8, 8, 3, 0, 8, 0, 5]}\n",
    "\n",
    "\n",
    "\n",
    "But we have 100 students, so the complete data is given in the next cell. \n",
    "     \n",
    "\n",
    "Write a Python function that takes the dictionary **data** as input and determines which question was the easiest for the students, i.e., for which question was the average mark the highest? \n"
   ]
  },
  {
   "cell_type": "code",
   "execution_count": null,
   "metadata": {
    "deletable": false,
    "editable": false,
    "render": true
   },
   "outputs": [],
   "source": [
    "data = {'student0': [3, 9, 8, 9, 8, 4, 2, 8, 4, 9], \n",
    "'student1': [8, 7, 1, 8, 8, 3, 0, 8, 0, 5], \n",
    "'student2': [4, 0, 1, 6, 6, 4, 9, 8, 9, 9], \n",
    "'student3': [2, 1, 9, 5, 5, 7, 0, 3, 9, 3], \n",
    "'student4': [1, 9, 0, 9, 5, 7, 3, 7, 0, 0], \n",
    "'student5': [1, 0, 1, 9, 5, 5, 8, 2, 4, 3], \n",
    "'student6': [4, 9, 6, 6, 6, 2, 0, 1, 8, 0], \n",
    "'student7': [6, 2, 4, 5, 9, 5, 4, 4, 2, 6], \n",
    "'student8': [5, 6, 8, 1, 7, 8, 1, 9, 0, 5], \n",
    "'student9': [8, 0, 2, 3, 8, 1, 7, 8, 7, 1], \n",
    "'student10': [6, 3, 1, 2, 2, 1, 6, 4, 8, 4], \n",
    "'student11': [5, 6, 8, 5, 7, 3, 7, 3, 8, 2], \n",
    "'student12': [1, 9, 0, 0, 1, 4, 4, 4, 0, 0], \n",
    "'student13': [2, 1, 6, 8, 2, 6, 7, 6, 2, 3], \n",
    "'student14': [0, 5, 3, 0, 8, 9, 1, 4, 0, 5], \n",
    "'student15': [8, 3, 5, 0, 8, 6, 2, 1, 4, 9], \n",
    "'student16': [6, 1, 8, 2, 4, 2, 2, 3, 0, 8], \n",
    "'student17': [5, 3, 3, 6, 0, 0, 0, 8, 7, 7], \n",
    "'student18': [7, 5, 2, 9, 2, 1, 1, 2, 9, 3], \n",
    "'student19': [7, 7, 2, 0, 3, 1, 1, 0, 2, 0], \n",
    "'student20': [1, 8, 6, 6, 0, 0, 7, 6, 9, 4], \n",
    "'student21': [7, 6, 1, 5, 7, 2, 6, 6, 6, 8], \n",
    "'student22': [7, 1, 0, 2, 0, 1, 5, 7, 4, 9], \n",
    "'student23': [8, 8, 5, 5, 9, 9, 2, 6, 1, 7], \n",
    "'student24': [9, 5, 6, 7, 1, 3, 6, 6, 7, 5], \n",
    "'student25': [2, 1, 9, 6, 4, 5, 3, 2, 4, 5], \n",
    "'student26': [5, 0, 8, 8, 4, 3, 0, 3, 4, 1], \n",
    "'student27': [7, 3, 1, 9, 1, 6, 0, 2, 7, 5], \n",
    "'student28': [2, 4, 7, 3, 3, 7, 2, 1, 1, 7], \n",
    "'student29': [9, 8, 9, 8, 1, 4, 8, 2, 0, 1], \n",
    "'student30': [4, 1, 8, 4, 6, 6, 3, 3, 6, 6], \n",
    "'student31': [9, 9, 5, 5, 8, 0, 8, 4, 2, 7], \n",
    "'student32': [4, 9, 7, 4, 9, 8, 0, 7, 1, 3], \n",
    "'student33': [8, 0, 1, 8, 4, 3, 9, 3, 9, 5], \n",
    "'student34': [7, 2, 0, 6, 7, 1, 2, 2, 2, 7], \n",
    "'student35': [2, 1, 5, 8, 5, 8, 2, 1, 4, 0], \n",
    "'student36': [7, 3, 9, 9, 9, 4, 7, 6, 5, 0], \n",
    "'student37': [8, 9, 4, 9, 3, 1, 7, 2, 7, 9], \n",
    "'student38': [7, 1, 7, 4, 9, 8, 3, 4, 8, 3], \n",
    "'student39': [0, 3, 9, 2, 0, 6, 7, 6, 5, 3], \n",
    "'student40': [2, 2, 9, 1, 1, 2, 3, 6, 1, 9], \n",
    "'student41': [9, 4, 7, 9, 3, 8, 0, 7, 3, 0], \n",
    "'student42': [1, 5, 3, 9, 3, 6, 1, 3, 3, 3], \n",
    "'student43': [4, 5, 2, 6, 2, 7, 1, 1, 3, 1], \n",
    "'student44': [4, 7, 5, 2, 1, 9, 0, 1, 6, 9], \n",
    "'student45': [5, 4, 3, 2, 3, 1, 1, 6, 0, 0], \n",
    "'student46': [3, 0, 4, 3, 8, 7, 7, 0, 3, 8], \n",
    "'student47': [9, 3, 7, 1, 6, 1, 2, 6, 4, 0], \n",
    "'student48': [6, 0, 8, 3, 9, 9, 4, 7, 8, 0], \n",
    "'student49': [4, 1, 7, 5, 2, 3, 0, 8, 3, 6], \n",
    "'student50': [6, 3, 4, 2, 8, 7, 2, 2, 9, 9], \n",
    "'student51': [8, 7, 2, 7, 2, 4, 8, 5, 3, 0], \n",
    "'student52': [0, 7, 9, 7, 4, 1, 6, 4, 3, 4], \n",
    "'student53': [6, 6, 3, 5, 7, 4, 3, 3, 6, 6], \n",
    "'student54': [0, 9, 8, 3, 0, 1, 1, 9, 0, 8], \n",
    "'student55': [8, 2, 0, 1, 0, 5, 1, 4, 6, 5], \n",
    "'student56': [6, 1, 1, 7, 1, 0, 7, 0, 4, 5], \n",
    "'student57': [6, 4, 9, 6, 5, 2, 6, 7, 5, 0], \n",
    "'student58': [7, 0, 2, 1, 5, 0, 2, 8, 8, 8], \n",
    "'student59': [4, 5, 2, 1, 8, 8, 5, 8, 2, 3], \n",
    "'student60': [4, 4, 9, 0, 9, 9, 4, 5, 3, 6], \n",
    "'student61': [4, 5, 2, 9, 9, 6, 6, 1, 3, 0], \n",
    "'student62': [1, 2, 9, 4, 6, 6, 8, 8, 4, 7], \n",
    "'student63': [9, 1, 9, 5, 2, 2, 3, 5, 2, 0], \n",
    "'student64': [4, 8, 4, 8, 5, 3, 8, 0, 8, 0], \n",
    "'student65': [5, 4, 7, 3, 7, 4, 3, 4, 0, 4], \n",
    "'student66': [2, 8, 4, 4, 0, 8, 1, 0, 3, 7], \n",
    "'student67': [7, 6, 6, 6, 4, 0, 0, 4, 1, 1], \n",
    "'student68': [4, 3, 5, 4, 5, 4, 5, 2, 9, 8], \n",
    "'student69': [0, 3, 3, 2, 8, 3, 9, 6, 0, 9], \n",
    "'student70': [5, 8, 7, 6, 5, 9, 8, 9, 3, 3], \n",
    "'student71': [0, 4, 4, 3, 7, 8, 5, 4, 6, 7], \n",
    "'student72': [0, 1, 1, 5, 3, 8, 0, 4, 7, 5], \n",
    "'student73': [8, 8, 6, 9, 8, 9, 8, 3, 2, 9], \n",
    "'student74': [7, 2, 0, 9, 6, 1, 6, 4, 3, 1], \n",
    "'student75': [2, 4, 2, 6, 8, 1, 1, 0, 8, 2], \n",
    "'student76': [3, 1, 6, 9, 2, 5, 9, 5, 7, 5], \n",
    "'student77': [4, 4, 9, 6, 1, 3, 1, 0, 0, 5], \n",
    "'student78': [0, 1, 4, 4, 5, 4, 2, 4, 7, 5], \n",
    "'student79': [6, 8, 6, 3, 0, 2, 1, 1, 2, 6], \n",
    "'student80': [8, 7, 4, 5, 3, 2, 7, 7, 6, 3], \n",
    "'student81': [0, 3, 9, 5, 9, 1, 5, 6, 9, 6], \n",
    "'student82': [3, 1, 0, 7, 2, 6, 5, 1, 5, 9], \n",
    "'student83': [3, 2, 1, 8, 3, 9, 5, 5, 6, 4], \n",
    "'student84': [8, 4, 2, 9, 3, 5, 9, 9, 0, 6], \n",
    "'student85': [8, 9, 4, 7, 0, 0, 9, 9, 2, 3], \n",
    "'student86': [8, 3, 6, 5, 8, 1, 1, 9, 4, 7], \n",
    "'student87': [2, 8, 5, 3, 8, 9, 2, 0, 3, 0], \n",
    "'student88': [9, 1, 6, 5, 6, 6, 9, 9, 6, 8], \n",
    "'student89': [8, 6, 6, 5, 0, 2, 4, 6, 6, 1], \n",
    "'student90': [6, 2, 5, 5, 0, 4, 7, 4, 7, 9], \n",
    "'student91': [1, 9, 6, 6, 7, 0, 3, 3, 2, 6], \n",
    "'student92': [5, 9, 8, 3, 2, 7, 5, 0, 6, 3], \n",
    "'student93': [7, 4, 0, 0, 3, 8, 1, 0, 5, 5], \n",
    "'student94': [9, 0, 9, 0, 3, 0, 5, 5, 4, 6], \n",
    "'student95': [8, 4, 9, 8, 3, 3, 1, 7, 0, 9], \n",
    "'student96': [0, 6, 5, 4, 0, 9, 7, 4, 5, 8], \n",
    "'student97': [1, 4, 8, 1, 6, 6, 2, 1, 5, 0], \n",
    "'student98': [7, 3, 5, 1, 4, 7, 1, 9, 9, 7], \n",
    "'student99': [4, 0, 2, 3, 2, 3, 7, 6, 2, 2]}"
   ]
  },
  {
   "cell_type": "markdown",
   "metadata": {
    "deletable": false,
    "editable": false,
    "render": true
   },
   "source": [
    "\n",
    "### Enter your answer for Q4 in the cell below. Add any additional functions, code you may need. But the entire answer must be in this cell."
   ]
  },
  {
   "cell_type": "code",
   "execution_count": null,
   "metadata": {
    "deletable": false,
    "render": true
   },
   "outputs": [],
   "source": [
    "# Solution for Q4 \n",
    "def easiest_question (exam_results): \n",
    "    pass \n",
    "        \n",
    "\n",
    "print (\"Easiest was: Question\", easiest_question (data))\n",
    "\n",
    "\n",
    "        "
   ]
  },
  {
   "cell_type": "code",
   "execution_count": null,
   "metadata": {
    "deletable": false,
    "editable": false,
    "render": true
   },
   "outputs": [],
   "source": [
    "\n",
    "# this is for grading purposes only! \n",
    "\n",
    "# Checking solution of Q1 \n",
    "\n",
    "assert (countStrongPasswords(\"passwords-examples-txt\")==321)\n",
    "\n",
    "# Checking solution of Q2 \n",
    "\n",
    "assert (max (palindromicSquares (16))==1002001)\n",
    "assert (sum (palindromicSquares (16))==1989048)\n",
    "\n",
    "# Checking solution of Q3 \n",
    "assert (len (getCountries (jsonDataFile))==35)\n",
    "assert (getVIPSPerCountry (jsonDataFile)[\"Canada\"]==5)\n",
    "assert (getVIPSPerCountry (jsonDataFile)[\"China\"]==15)\n",
    "assert (sum(getVIPSPerCountry (jsonDataFile).values())==88)\n",
    "\n",
    "\n",
    "# Checking solution of Q4 \n",
    "assert (easiest_question (data)==4) \n",
    "\n"
   ]
  },
  {
   "cell_type": "code",
   "execution_count": null,
   "metadata": {},
   "outputs": [],
   "source": []
  }
 ],
 "metadata": {
  "kernelspec": {
   "display_name": "Python 3 (ipykernel)",
   "language": "python",
   "name": "python3"
  },
  "language_info": {
   "codemirror_mode": {
    "name": "ipython",
    "version": 3
   },
   "file_extension": ".py",
   "mimetype": "text/x-python",
   "name": "python",
   "nbconvert_exporter": "python",
   "pygments_lexer": "ipython3",
   "version": "3.11.5"
  }
 },
 "nbformat": 4,
 "nbformat_minor": 1
}
