{
 "cells": [
  {
   "cell_type": "markdown",
   "metadata": {
    "deletable": false,
    "editable": false,
    "render": true
   },
   "source": [
    "# Programming 1  (Group 2)\n",
    "\n",
    "> ### Assessment 2, 19.12.2023\n",
    "Timed: 90 Minutes (1 Minute per point allocated to the question)\n",
    "\n"
   ]
  },
  {
   "cell_type": "markdown",
   "metadata": {
    "deletable": false,
    "render": true
   },
   "source": [
    "## <span style=\"color:red\">Student Name</span>\n",
    "> Enter your name here \n",
    "## <span style=\"color:red\">Student ID</span>\n",
    "> Enter your ID here"
   ]
  },
  {
   "cell_type": "markdown",
   "metadata": {
    "deletable": false,
    "render": true
   },
   "source": [
    "## Objective of this assessment\n",
    "\n",
    "Ensure that the students have gained the necessary programming skills during the semester by practising the optional exercises provided. \n",
    "\n",
    "> This is a offline open book exam. Students are not allowed to access the internet during the exam. Any external help, e.g., Google, ChatGPT etc is strictly prohibited. Do not submit any code you may have prepared before the exam! All exercises are meant to be solved during the exam - <span style=\"color:red\">I N D I V I D U A L L Y! </span> \n",
    "\n"
   ]
  },
  {
   "cell_type": "markdown",
   "metadata": {
    "deletable": false,
    "editable": false,
    "render": true
   },
   "source": [
    "## Q1: Working with Files <span style=\"color:blue\">&nbsp;&nbsp;&nbsp;&nbsp;&nbsp;&nbsp;&nbsp;&nbsp;&nbsp;&nbsp;&nbsp;&nbsp;&nbsp;&nbsp;&nbsp;&nbsp;&nbsp;&nbsp;&nbsp;&nbsp;&nbsp;&nbsp;&nbsp;&nbsp;(20 Points) </span>\n",
    "\n",
    "\n",
    "Given is a text file, which has 1000 passwords. Unfortunately not all these passwords fulfill the minimum requirements for a strong password. Write a Python script to determine how many of these passwords **meet all of the following criteria**: \n",
    "<ul>\n",
    "  <li>The password must never begin with a digit (0-9)</li>\n",
    "  <li>The password must consist of at least 1 underscore character</li>\n",
    "  <li>The password must consist of at least 2 upper case (A-Z) characters</li>\n",
    "  <li>If the password starts with a small case character (a-z) it must also end with a small case character.</li>    \n",
    "</ul>"
   ]
  },
  {
   "cell_type": "markdown",
   "metadata": {
    "deletable": false,
    "editable": false,
    "render": true
   },
   "source": [
    "### Enter your answer for Q1 in the cell below. Add any additional functions, code you may need. But the entire answer must be in this cell."
   ]
  },
  {
   "cell_type": "code",
   "execution_count": 2,
   "metadata": {
    "deletable": false,
    "render": true,
    "ExecuteTime": {
     "end_time": "2024-01-16T17:44:43.558404Z",
     "start_time": "2024-01-16T17:44:43.496686Z"
    }
   },
   "outputs": [
    {
     "ename": "SyntaxError",
     "evalue": "invalid syntax (2354451345.py, line 18)",
     "output_type": "error",
     "traceback": [
      "\u001B[0;36m  Cell \u001B[0;32mIn[2], line 18\u001B[0;36m\u001B[0m\n\u001B[0;31m    elif num_underscore < 1 or num_Upper < 2:\u001B[0m\n\u001B[0m    ^\u001B[0m\n\u001B[0;31mSyntaxError\u001B[0m\u001B[0;31m:\u001B[0m invalid syntax\n"
     ]
    }
   ],
   "source": [
    "\n",
    "# Solution for Q1\n",
    "def countStrongPasswords (filename):\n",
    "    with open(filename) as f:\n",
    "        text = f.readlines()\n",
    "    passwords = []\n",
    "    num_passwords = 0\n",
    "    for var in text:\n",
    "        var = var.replace(\"\\n\",\"\")\n",
    "        if var[0].isdigit == True or var[-1].isdigit == True:\n",
    "            continue\n",
    "        num_underscore = 0\n",
    "        num_Upper = 0\n",
    "        for letter in var:\n",
    "            if letter.islower == True:\n",
    "                num_underscore +=1\n",
    "            if letter.isupper == True:\n",
    "                num_Upper +=1\n",
    "        elif num_underscore < 1 or num_Upper < 2:\n",
    "            continue\n",
    "        elif var[0].islower == True:\n",
    "            if var[-1].islower == False:\n",
    "                continue\n",
    "        passwords.append(var)\n",
    "        num_passwords+=1\n",
    "        \n",
    "        \n",
    "            \n",
    "    return passwords,num_passwords\n",
    "        \n",
    "        \n",
    "\n",
    "\n",
    "# Test your code \n",
    "print (countStrongPasswords(\"passwords-examples-txt\"))\n"
   ]
  },
  {
   "cell_type": "markdown",
   "metadata": {
    "deletable": false,
    "editable": false,
    "render": true
   },
   "source": [
    "## Q2: Palindromic Square Numbers <span style=\"color:blue\">&nbsp;&nbsp;&nbsp;&nbsp;&nbsp;&nbsp;&nbsp;&nbsp;&nbsp;&nbsp;&nbsp;&nbsp;&nbsp;&nbsp;&nbsp;&nbsp;&nbsp;&nbsp;&nbsp;&nbsp;&nbsp;&nbsp;&nbsp;&nbsp;(20 Points) </span>\n",
    "\n",
    "A palindromic number (also known as a numeral palindrome or a numeric palindrome) is a number (such as 16461) that remains the same when its digits are reversed. The term palindromic is derived from palindrome, which refers to a word (such as rotor or racecar) whose spelling is unchanged when its letters are reversed. The first 30 palindromic numbers (in decimal) are:\n",
    "\n",
    "0, 1, 2, 3, 4, 5, 6, 7, 8, 9, 11, 22, 33, 44, 55, 66, 77, 88, 99, 101, 111, 121, 131, 141, 151, 161, 171, 181, 191, 202, …\n",
    "\n",
    "All palindromic numbers that are also square numbers is given by a sequence such as 0, 1, 4, 9, 121, 484, 676, 10201, 12321, ...\n",
    "\n",
    "Write a Python Function called \"palindromicSquares\" that takes an input parameter **n** and returns a list of **n** palindromic square numbers. For example, **palindromicSquares (6)** should return [0, 1, 4, 9, 121, 484]\n",
    "        \n",
    "### Enter your answer for Q2 in the cell below. Add any additional functions, code you may need. But the entire answer must be in this cell."
   ]
  },
  {
   "cell_type": "code",
   "execution_count": null,
   "metadata": {
    "deletable": false,
    "render": true
   },
   "outputs": [],
   "source": [
    "# Solution for Q2\n",
    "def palindromicSquares(n):\n",
    "    pass \n",
    "\n",
    "# Example usage:\n",
    "result = palindromicSquares(16)\n",
    "print (result)\n",
    "\n"
   ]
  },
  {
   "cell_type": "markdown",
   "metadata": {
    "deletable": false,
    "editable": false,
    "render": true
   },
   "source": [
    "## Q3: JSON Files <span style=\"color:blue\">&nbsp;&nbsp;&nbsp;&nbsp;&nbsp;&nbsp;&nbsp;&nbsp;&nbsp;&nbsp;&nbsp;&nbsp;&nbsp;&nbsp;&nbsp;&nbsp;&nbsp;&nbsp;&nbsp;&nbsp;&nbsp;&nbsp;&nbsp;&nbsp;(30 Points) </span>\n",
    "\n",
    "You are given a JSON file with data about people. The goal is to use this data and create a visualization of the number of VIPS in each country. The code for the visualization is already given for you. Write the missing functions to make the code work. \n",
    "\n",
    "**def getCountries(filename):** Returns the list of countries, where the people come from based on the data in the specified file. e.g., [\"Brazil\", \"Nigeria\", \"Mexico\"]. This list should not include duplicates, i.e., one entry per country only. <span style=\"color:blue\">(15 Points) </span> \n",
    "\n",
    "**def getVIPSPerCountry (filename)**: Returns a dictionary of items, where the country is the key and the number of VIPS in the country is the value. Example: {\"Brazil\":32, \"Nigeria\":12, \"Mexico\":5} <span style=\"color:blue\">(15 Points) </span> \n",
    "    \n",
    "        \n",
    "     \n",
    "### Enter your answer for Q3 in the cell below. Add any additional functions, code you may need. But the entire answer must be in the following two cells."
   ]
  },
  {
   "cell_type": "code",
   "execution_count": null,
   "metadata": {
    "deletable": false,
    "render": true
   },
   "outputs": [],
   "source": [
    "# Solution for Q3 part 1 \n",
    "import json \n",
    "jsonDataFile = \"people-json.json\"\n",
    "\n",
    "def getCountries(filename): \n",
    "    '''Returns the list of countries, where the people come from based on the data in the specified file. e.g., [\"Brazil\", \"Nigeria\", \"Mexico\"]. '''\n",
    "    # replace the hard-coded list below to calculate the values based on real data from the file \n",
    "    return [\"Brazil\", \"Nigeria\", \"Mexico\"] \n",
    "    \n",
    "    \n",
    "\n",
    "print (getCountries (jsonDataFile))\n",
    "print (len (getCountries (jsonDataFile)))"
   ]
  },
  {
   "cell_type": "code",
   "execution_count": null,
   "metadata": {
    "deletable": false,
    "render": true
   },
   "outputs": [],
   "source": [
    "# Solution for Q3 part 2 \n",
    "def getVIPSPerCountry (filename): \n",
    "    \n",
    "        \n",
    "d = ((getVIPSPerCountry (jsonDataFile)))\n",
    "print (sum(d.values()))"
   ]
  },
  {
   "cell_type": "code",
   "execution_count": null,
   "metadata": {
    "deletable": false,
    "editable": false,
    "render": true
   },
   "outputs": [],
   "source": [
    "# Do not change this cell. It simply plots the data returned by the functions above. \n",
    "# Run it to see the results\n",
    "import matplotlib.pyplot as plt\n",
    "\n",
    "countries = sorted(getCountries(jsonDataFile)) \n",
    "\n",
    "# Plotting the data\n",
    "plt.figure(figsize=(8, 6))\n",
    "\n",
    "\n",
    "# Plotting the first series with label\n",
    "values = sorted (getVIPSPerCountry(jsonDataFile).items())\n",
    "values = [y for (x,y) in values]\n",
    "plt.plot(countries, values, linestyle='-', linewidth=2)\n",
    "\n",
    "\n",
    "# Adding labels and title\n",
    "plt.xlabel('Countries')\n",
    "plt.ylabel('Counts')\n",
    "plt.title('Number of VIPs per country')\n",
    "plt.xticks(rotation=90)\n",
    "\n",
    "\n",
    "# Display the plot\n",
    "plt.show()"
   ]
  },
  {
   "cell_type": "markdown",
   "metadata": {
    "deletable": false,
    "editable": false,
    "render": true
   },
   "source": [
    "## Q4: Easiest Question <span style=\"color:blue\">&nbsp;&nbsp;&nbsp;&nbsp;&nbsp;&nbsp;&nbsp;&nbsp;&nbsp;&nbsp;&nbsp;&nbsp;&nbsp;&nbsp;&nbsp;&nbsp;&nbsp;&nbsp;&nbsp;&nbsp;&nbsp;&nbsp;&nbsp;&nbsp;(20 Points) </span>\n",
    "\n",
    "Imagine, you are a lecturer who has 100 students in class. The students attempted an examination with 10 questions and the lectuter had to correct all of them :-) After the correction was complete, the lectuter added the results to a python dictionary, where the name of the student is the key and the list of points achieved by the student for the different questions is the value. For example, the dictionary with two students would like the following. The order of numbers in the list is the order of the questions in the exam: **Question 1 to Question 10.** \n",
    "\n",
    "    {'student0': [3, 9, 8, 9, 8, 4, 2, 8, 4, 9], 'student1': [8, 7, 1, 8, 8, 3, 0, 8, 0, 5]}\n",
    "\n",
    "\n",
    "\n",
    "But we have 100 students, so the complete data is given in the next cell. \n",
    "     \n",
    "\n",
    "Write a Python function that takes the dictionary **data** as input and determines which question was the easiest for the students, i.e., for which question was the average mark the highest? \n"
   ]
  },
  {
   "cell_type": "code",
   "execution_count": null,
   "metadata": {
    "deletable": false,
    "editable": false,
    "render": true
   },
   "outputs": [],
   "source": [
    "data = {'student0': [3, 9, 8, 9, 8, 4, 2, 8, 4, 9], \n",
    "'student1': [8, 7, 1, 8, 8, 3, 0, 8, 0, 5], \n",
    "'student2': [4, 0, 1, 6, 6, 4, 9, 8, 9, 9], \n",
    "'student3': [2, 1, 9, 5, 5, 7, 0, 3, 9, 3], \n",
    "'student4': [1, 9, 0, 9, 5, 7, 3, 7, 0, 0], \n",
    "'student5': [1, 0, 1, 9, 5, 5, 8, 2, 4, 3], \n",
    "'student6': [4, 9, 6, 6, 6, 2, 0, 1, 8, 0], \n",
    "'student7': [6, 2, 4, 5, 9, 5, 4, 4, 2, 6], \n",
    "'student8': [5, 6, 8, 1, 7, 8, 1, 9, 0, 5], \n",
    "'student9': [8, 0, 2, 3, 8, 1, 7, 8, 7, 1], \n",
    "'student10': [6, 3, 1, 2, 2, 1, 6, 4, 8, 4], \n",
    "'student11': [5, 6, 8, 5, 7, 3, 7, 3, 8, 2], \n",
    "'student12': [1, 9, 0, 0, 1, 4, 4, 4, 0, 0], \n",
    "'student13': [2, 1, 6, 8, 2, 6, 7, 6, 2, 3], \n",
    "'student14': [0, 5, 3, 0, 8, 9, 1, 4, 0, 5], \n",
    "'student15': [8, 3, 5, 0, 8, 6, 2, 1, 4, 9], \n",
    "'student16': [6, 1, 8, 2, 4, 2, 2, 3, 0, 8], \n",
    "'student17': [5, 3, 3, 6, 0, 0, 0, 8, 7, 7], \n",
    "'student18': [7, 5, 2, 9, 2, 1, 1, 2, 9, 3], \n",
    "'student19': [7, 7, 2, 0, 3, 1, 1, 0, 2, 0], \n",
    "'student20': [1, 8, 6, 6, 0, 0, 7, 6, 9, 4], \n",
    "'student21': [7, 6, 1, 5, 7, 2, 6, 6, 6, 8], \n",
    "'student22': [7, 1, 0, 2, 0, 1, 5, 7, 4, 9], \n",
    "'student23': [8, 8, 5, 5, 9, 9, 2, 6, 1, 7], \n",
    "'student24': [9, 5, 6, 7, 1, 3, 6, 6, 7, 5], \n",
    "'student25': [2, 1, 9, 6, 4, 5, 3, 2, 4, 5], \n",
    "'student26': [5, 0, 8, 8, 4, 3, 0, 3, 4, 1], \n",
    "'student27': [7, 3, 1, 9, 1, 6, 0, 2, 7, 5], \n",
    "'student28': [2, 4, 7, 3, 3, 7, 2, 1, 1, 7], \n",
    "'student29': [9, 8, 9, 8, 1, 4, 8, 2, 0, 1], \n",
    "'student30': [4, 1, 8, 4, 6, 6, 3, 3, 6, 6], \n",
    "'student31': [9, 9, 5, 5, 8, 0, 8, 4, 2, 7], \n",
    "'student32': [4, 9, 7, 4, 9, 8, 0, 7, 1, 3], \n",
    "'student33': [8, 0, 1, 8, 4, 3, 9, 3, 9, 5], \n",
    "'student34': [7, 2, 0, 6, 7, 1, 2, 2, 2, 7], \n",
    "'student35': [2, 1, 5, 8, 5, 8, 2, 1, 4, 0], \n",
    "'student36': [7, 3, 9, 9, 9, 4, 7, 6, 5, 0], \n",
    "'student37': [8, 9, 4, 9, 3, 1, 7, 2, 7, 9], \n",
    "'student38': [7, 1, 7, 4, 9, 8, 3, 4, 8, 3], \n",
    "'student39': [0, 3, 9, 2, 0, 6, 7, 6, 5, 3], \n",
    "'student40': [2, 2, 9, 1, 1, 2, 3, 6, 1, 9], \n",
    "'student41': [9, 4, 7, 9, 3, 8, 0, 7, 3, 0], \n",
    "'student42': [1, 5, 3, 9, 3, 6, 1, 3, 3, 3], \n",
    "'student43': [4, 5, 2, 6, 2, 7, 1, 1, 3, 1], \n",
    "'student44': [4, 7, 5, 2, 1, 9, 0, 1, 6, 9], \n",
    "'student45': [5, 4, 3, 2, 3, 1, 1, 6, 0, 0], \n",
    "'student46': [3, 0, 4, 3, 8, 7, 7, 0, 3, 8], \n",
    "'student47': [9, 3, 7, 1, 6, 1, 2, 6, 4, 0], \n",
    "'student48': [6, 0, 8, 3, 9, 9, 4, 7, 8, 0], \n",
    "'student49': [4, 1, 7, 5, 2, 3, 0, 8, 3, 6], \n",
    "'student50': [6, 3, 4, 2, 8, 7, 2, 2, 9, 9], \n",
    "'student51': [8, 7, 2, 7, 2, 4, 8, 5, 3, 0], \n",
    "'student52': [0, 7, 9, 7, 4, 1, 6, 4, 3, 4], \n",
    "'student53': [6, 6, 3, 5, 7, 4, 3, 3, 6, 6], \n",
    "'student54': [0, 9, 8, 3, 0, 1, 1, 9, 0, 8], \n",
    "'student55': [8, 2, 0, 1, 0, 5, 1, 4, 6, 5], \n",
    "'student56': [6, 1, 1, 7, 1, 0, 7, 0, 4, 5], \n",
    "'student57': [6, 4, 9, 6, 5, 2, 6, 7, 5, 0], \n",
    "'student58': [7, 0, 2, 1, 5, 0, 2, 8, 8, 8], \n",
    "'student59': [4, 5, 2, 1, 8, 8, 5, 8, 2, 3], \n",
    "'student60': [4, 4, 9, 0, 9, 9, 4, 5, 3, 6], \n",
    "'student61': [4, 5, 2, 9, 9, 6, 6, 1, 3, 0], \n",
    "'student62': [1, 2, 9, 4, 6, 6, 8, 8, 4, 7], \n",
    "'student63': [9, 1, 9, 5, 2, 2, 3, 5, 2, 0], \n",
    "'student64': [4, 8, 4, 8, 5, 3, 8, 0, 8, 0], \n",
    "'student65': [5, 4, 7, 3, 7, 4, 3, 4, 0, 4], \n",
    "'student66': [2, 8, 4, 4, 0, 8, 1, 0, 3, 7], \n",
    "'student67': [7, 6, 6, 6, 4, 0, 0, 4, 1, 1], \n",
    "'student68': [4, 3, 5, 4, 5, 4, 5, 2, 9, 8], \n",
    "'student69': [0, 3, 3, 2, 8, 3, 9, 6, 0, 9], \n",
    "'student70': [5, 8, 7, 6, 5, 9, 8, 9, 3, 3], \n",
    "'student71': [0, 4, 4, 3, 7, 8, 5, 4, 6, 7], \n",
    "'student72': [0, 1, 1, 5, 3, 8, 0, 4, 7, 5], \n",
    "'student73': [8, 8, 6, 9, 8, 9, 8, 3, 2, 9], \n",
    "'student74': [7, 2, 0, 9, 6, 1, 6, 4, 3, 1], \n",
    "'student75': [2, 4, 2, 6, 8, 1, 1, 0, 8, 2], \n",
    "'student76': [3, 1, 6, 9, 2, 5, 9, 5, 7, 5], \n",
    "'student77': [4, 4, 9, 6, 1, 3, 1, 0, 0, 5], \n",
    "'student78': [0, 1, 4, 4, 5, 4, 2, 4, 7, 5], \n",
    "'student79': [6, 8, 6, 3, 0, 2, 1, 1, 2, 6], \n",
    "'student80': [8, 7, 4, 5, 3, 2, 7, 7, 6, 3], \n",
    "'student81': [0, 3, 9, 5, 9, 1, 5, 6, 9, 6], \n",
    "'student82': [3, 1, 0, 7, 2, 6, 5, 1, 5, 9], \n",
    "'student83': [3, 2, 1, 8, 3, 9, 5, 5, 6, 4], \n",
    "'student84': [8, 4, 2, 9, 3, 5, 9, 9, 0, 6], \n",
    "'student85': [8, 9, 4, 7, 0, 0, 9, 9, 2, 3], \n",
    "'student86': [8, 3, 6, 5, 8, 1, 1, 9, 4, 7], \n",
    "'student87': [2, 8, 5, 3, 8, 9, 2, 0, 3, 0], \n",
    "'student88': [9, 1, 6, 5, 6, 6, 9, 9, 6, 8], \n",
    "'student89': [8, 6, 6, 5, 0, 2, 4, 6, 6, 1], \n",
    "'student90': [6, 2, 5, 5, 0, 4, 7, 4, 7, 9], \n",
    "'student91': [1, 9, 6, 6, 7, 0, 3, 3, 2, 6], \n",
    "'student92': [5, 9, 8, 3, 2, 7, 5, 0, 6, 3], \n",
    "'student93': [7, 4, 0, 0, 3, 8, 1, 0, 5, 5], \n",
    "'student94': [9, 0, 9, 0, 3, 0, 5, 5, 4, 6], \n",
    "'student95': [8, 4, 9, 8, 3, 3, 1, 7, 0, 9], \n",
    "'student96': [0, 6, 5, 4, 0, 9, 7, 4, 5, 8], \n",
    "'student97': [1, 4, 8, 1, 6, 6, 2, 1, 5, 0], \n",
    "'student98': [7, 3, 5, 1, 4, 7, 1, 9, 9, 7], \n",
    "'student99': [4, 0, 2, 3, 2, 3, 7, 6, 2, 2]}"
   ]
  },
  {
   "cell_type": "markdown",
   "metadata": {
    "deletable": false,
    "editable": false,
    "render": true
   },
   "source": [
    "\n",
    "### Enter your answer for Q4 in the cell below. Add any additional functions, code you may need. But the entire answer must be in this cell."
   ]
  },
  {
   "cell_type": "code",
   "execution_count": null,
   "metadata": {
    "deletable": false,
    "render": true
   },
   "outputs": [],
   "source": [
    "# Solution for Q4 \n",
    "def easiest_question (exam_results): \n",
    "    def easiest_question(exam_results):\n",
    "    q1,q2,q3,q4,q5,q6,q7,q8,q9,q10 = 0,0,0,0,0,0,0,0,0,0\n",
    "    for student in exam_results:\n",
    "        result = exam_results.get(student)\n",
    "        question = 1\n",
    "        for mark in result:\n",
    "            if question == 1:\n",
    "                q1 +=mark\n",
    "                question+=1\n",
    "            elif question == 2:\n",
    "                q2+=mark\n",
    "                question+=1\n",
    "            elif question ==3:\n",
    "                q3+=mark\n",
    "                question+=1\n",
    "            elif question == 4:\n",
    "                q4+=mark\n",
    "                question += 1\n",
    "            elif question == 5:\n",
    "                q5+=mark\n",
    "                question += 1\n",
    "            elif question == 6:\n",
    "                q6+=mark\n",
    "                question+=1\n",
    "            elif question == 7:\n",
    "                q7+=mark\n",
    "                question+=1\n",
    "            elif question == 8:\n",
    "                q8+=mark\n",
    "                question+=1\n",
    "            elif question == 9 :\n",
    "                q9+=mark\n",
    "                question +=1\n",
    "            elif question == 10:\n",
    "                q10+=mark\n",
    "                question+=1\n",
    "    result_list = [q1,q2,q3,q4,q5,q6,q7,q8,q9,q10]\n",
    "    return result_list.index(max(result_list))+1\n",
    "        \n",
    "\n",
    "print (\"Easiest was: Question\", easiest_question (data))\n",
    "\n",
    "\n",
    "        "
   ]
  },
  {
   "cell_type": "code",
   "execution_count": null,
   "metadata": {
    "deletable": false,
    "editable": false,
    "render": true
   },
   "outputs": [],
   "source": [
    "\n",
    "# this is for grading purposes only! \n",
    "\n",
    "# Checking solution of Q1 \n",
    "\n",
    "assert (countStrongPasswords(\"passwords-examples-txt\")==321)\n",
    "\n",
    "# Checking solution of Q2 \n",
    "\n",
    "assert (max (palindromicSquares (16))==1002001)\n",
    "assert (sum (palindromicSquares (16))==1989048)\n",
    "\n",
    "# Checking solution of Q3 \n",
    "assert (len (getCountries (jsonDataFile))==35)\n",
    "assert (getVIPSPerCountry (jsonDataFile)[\"Canada\"]==5)\n",
    "assert (getVIPSPerCountry (jsonDataFile)[\"China\"]==15)\n",
    "assert (sum(getVIPSPerCountry (jsonDataFile).values())==88)\n",
    "\n",
    "\n",
    "# Checking solution of Q4 \n",
    "assert (easiest_question (data)==4) \n",
    "\n"
   ]
  },
  {
   "cell_type": "code",
   "execution_count": null,
   "metadata": {},
   "outputs": [],
   "source": []
  }
 ],
 "metadata": {
  "kernelspec": {
   "display_name": "Python 3 (ipykernel)",
   "language": "python",
   "name": "python3"
  },
  "language_info": {
   "codemirror_mode": {
    "name": "ipython",
    "version": 3
   },
   "file_extension": ".py",
   "mimetype": "text/x-python",
   "name": "python",
   "nbconvert_exporter": "python",
   "pygments_lexer": "ipython3",
   "version": "3.10.5"
  }
 },
 "nbformat": 4,
 "nbformat_minor": 4
}
