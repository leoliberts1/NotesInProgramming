{
 "cells": [
  {
   "cell_type": "markdown",
   "source": [
    "# Programming 1\n",
    "\n",
    "> ### Assessment 2, 13.12.2023\n",
    "Timed: 90 Minutes (1 Minute per point allocated to the question)\n",
    "\n"
   ],
   "metadata": {
    "deletable": false,
    "editable": false,
    "render": true
   }
  },
  {
   "cell_type": "markdown",
   "source": [
    "## <span style=\"color:red\">Student Name</span>\n",
    "> Leo Liberts\n",
    "## <span style=\"color:red\">Student ID</span>\n",
    "> 23/1/0855/029"
   ],
   "metadata": {
    "deletable": false,
    "render": true,
    "tags": []
   }
  },
  {
   "cell_type": "markdown",
   "source": [
    "## Objective of this assessment\n",
    "\n",
    "Ensure that the students have gained the necessary programming skills during the semester by practising the optional exercises provided. \n",
    "\n",
    "> This is a offline open book exam. Students are not allowed to access the internet during the exam. Any external help, e.g., Google, ChatGPT etc is strictly prohibited. Do not submit any code you may have prepared before the exam! All exercises are meant to be solved during the exam - <span style=\"color:red\">I N D I V I D U A L L Y! </span> \n",
    "\n",
    "### Points overview \n",
    "Total: 90 \n",
    "\n",
    "|Questions| Q1 | Q2.1 | Q2.2 | Q2.3 | Q3 | Q4 |\n",
    "| --- | --- | --- | --- | --- | --- | --- |\n",
    "|Points| 20 | 5 | 10 | 15 | 20 | 20 |\n"
   ],
   "metadata": {
    "deletable": false,
    "render": true
   }
  },
  {
   "cell_type": "markdown",
   "source": [
    "## Q1: Working with Files <span style=\"color:blue\">&nbsp;&nbsp;&nbsp;&nbsp;&nbsp;&nbsp;&nbsp;&nbsp;&nbsp;&nbsp;&nbsp;&nbsp;&nbsp;&nbsp;&nbsp;&nbsp;&nbsp;&nbsp;&nbsp;&nbsp;&nbsp;&nbsp;&nbsp;&nbsp;(20 Points) </span>\n",
    "\n",
    "\n",
    "Given is a Python Function to check whether a given number is a prime number. In number theory, A prime number is defined as a natural number greater than 1 and is divisible by only 1 and itself. First few prime numbers are 2, 3, 5, 7, 11, 13, 17, 19, 23 . . .\n",
    "\n",
    "Write a Python function called **checkPrimeInFile (filename)** which counts the total number of prime numbers in the given file. You are given a text file with random numbers to test this function. Feel free to use the given function **isPrime**  for your convenience. \n",
    "\n",
    "**Hint**: The given file also contains some text, make sure your program does not crash. Just ignore the parts that is not a number. \n"
   ],
   "metadata": {
    "deletable": false,
    "editable": false,
    "render": true
   }
  },
  {
   "cell_type": "code",
   "source": [
    "# Do not change this cell, this is given for reference, feel free to use the function in your solution. \n",
    "def isPrime(number):\n",
    "    \"\"\"Check if a number is prime.\"\"\"\n",
    "    if number <= 1:\n",
    "        return False  # Numbers less than or equal to 1 are not prime\n",
    "\n",
    "    for i in range(2, int(number**0.5) + 1):\n",
    "        if number % i == 0:\n",
    "            return False  # If the number is divisible by any integer in this range, it's not prime\n",
    "\n",
    "    return True  # If no divisors are found, the number is prime\n",
    "\n",
    "print (isPrime(132))\n",
    "print (isPrime(13))\n"
   ],
   "outputs": [
    {
     "name": "stdout",
     "output_type": "stream",
     "text": [
      "False\n",
      "True\n"
     ]
    }
   ],
   "execution_count": 17,
   "metadata": {
    "deletable": false,
    "editable": false,
    "render": true,
    "tags": [],
    "ExecuteTime": {
     "end_time": "2024-01-17T17:30:17.438716Z",
     "start_time": "2024-01-17T17:30:17.422675Z"
    }
   }
  },
  {
   "cell_type": "markdown",
   "source": [
    "### Enter your answer for Q1 in the cell below. Add any additional functions, code you may need. But the entire answer must be in this cell."
   ],
   "metadata": {
    "deletable": false,
    "editable": false,
    "render": true
   }
  },
  {
   "cell_type": "code",
   "source": [
    "sample_list = \"/Users/leoliberts/Desktop/jupiter/13.12.2023_asesment/sample_list_of_numbers_1.txt\"\n",
    "#I don't know why but If I don't use the full path for a file my laptop sometimes decides that it can't find it\n",
    "# Solution for Q1\n",
    "def checkPrimeInFile (name):\n",
    "    with open(name) as numbers:\n",
    "        sample_list_of_numbers = numbers.read()\n",
    "    sample_list_of_numbers = sample_list_of_numbers.split(\",\")\n",
    "    number_list = []\n",
    "    for number in sample_list_of_numbers:\n",
    "        number = number.replace(\" \",\"\")\n",
    "        number = number.replace(\" \",\"\")\n",
    "        number = number.replace(\" \",\"\")\n",
    "        number = number.replace(\"\\n\",\"\")\n",
    "        not_number = False\n",
    "        if number == \"\":\n",
    "            continue\n",
    "        for part in number:\n",
    "            if part.isdigit() != True:\n",
    "                not_number = True\n",
    "        if not_number == False:\n",
    "            if isPrime(int(number)) == True:\n",
    "                number_list.append(number)\n",
    "    return len(number_list)\n",
    "    #print(type(sample_list_of_numbers))\n",
    "   \n",
    "    \n",
    "        #if isPrime(i) == true:\n",
    "            #prime_list.append(i)\n",
    "    \n",
    "# Test your code\n",
    "print(checkPrimeInFile(sample_list))\n",
    "\n"
   ],
   "outputs": [
    {
     "name": "stdout",
     "output_type": "stream",
     "text": [
      "464\n"
     ]
    }
   ],
   "execution_count": 18,
   "metadata": {
    "deletable": false,
    "render": true,
    "tags": [],
    "ExecuteTime": {
     "end_time": "2024-01-17T17:30:22.670351Z",
     "start_time": "2024-01-17T17:30:22.564539Z"
    }
   }
  },
  {
   "cell_type": "markdown",
   "source": [
    "## Q2: Reversible Numbers <span style=\"color:blue\">&nbsp;&nbsp;&nbsp;&nbsp;&nbsp;&nbsp;&nbsp;&nbsp;&nbsp;&nbsp;&nbsp;&nbsp;&nbsp;&nbsp;&nbsp;&nbsp;&nbsp;&nbsp;&nbsp;&nbsp;&nbsp;&nbsp;&nbsp;&nbsp;(20 Points) </span>\n",
    "\n",
    "Some positive integers **n** have the property that the **sum (n + reverse (n))** consists entirely of odd decimal digits. We will call such numbers reversible.Leading zeors are not allowed in either n or reverse (n), where reverse (n) represents the number formed by arranging the digits of n in reverse order.\n",
    "\n",
    "For instance, 36 + 63 = 99 and 409 + 904 = 1313. Similarly, 36, 63, 409 and 904 are reversible numbers.  \n",
    "\n",
    "**Hint:** There are 120 reversible numbers below 1000. \n",
    "\n",
    "Write a Python Function called **reversibles(n)** that returns a list of **n** reversible numbers. \n",
    "\n",
    "For example, the following code snippet should print 10 reversible numbers: \n",
    "\n",
    "    for x in reversibles (10): \n",
    "        print (x) \n",
    "        \n",
    "### Enter your answer for Q2 in the cell below. Add any additional functions, code you may need. But the entire answer must be in this cell."
   ],
   "metadata": {
    "deletable": false,
    "editable": false,
    "render": true
   }
  },
  {
   "cell_type": "code",
   "source": [
    "# Solution for Q2\n",
    "def reversibles (n):\n",
    "    GoodNumbers = []\n",
    "    start = 1\n",
    "    while len(GoodNumbers) < n:\n",
    "        number = start+int(str(start)[::-1])\n",
    "        if (str(start)[::-1])[0] == \"0\":\n",
    "            start+=1\n",
    "            continue\n",
    "        isodd = True\n",
    "        for arg in list(str(number)):\n",
    "            if int(arg)%2 ==0 :\n",
    "                # GoodNumbers.append(start)\n",
    "                # start += 1\n",
    "                isodd = False\n",
    "        if isodd:\n",
    "            GoodNumbers.append(start)\n",
    "        start+=1\n",
    "    return(GoodNumbers)\n",
    "#Hint: There are 120 reversible numbers below 1000.\n",
    "print(reversibles(120))\n",
    "\n"
   ],
   "outputs": [
    {
     "name": "stdout",
     "output_type": "stream",
     "text": [
      "[12, 14, 16, 18, 21, 23, 25, 27, 32, 34, 36, 41, 43, 45, 52, 54, 61, 63, 72, 81, 209, 219, 229, 239, 249, 308, 318, 328, 338, 348, 407, 409, 417, 419, 427, 429, 437, 439, 447, 449, 506, 508, 516, 518, 526, 528, 536, 538, 546, 548, 605, 607, 609, 615, 617, 619, 625, 627, 629, 635, 637, 639, 645, 647, 649, 704, 706, 708, 714, 716, 718, 724, 726, 728, 734, 736, 738, 744, 746, 748, 803, 805, 807, 809, 813, 815, 817, 819, 823, 825, 827, 829, 833, 835, 837, 839, 843, 845, 847, 849, 902, 904, 906, 908, 912, 914, 916, 918, 922, 924, 926, 928, 932, 934, 936, 938, 942, 944, 946, 948]\n"
     ]
    }
   ],
   "execution_count": 22,
   "metadata": {
    "deletable": false,
    "render": true,
    "tags": [],
    "ExecuteTime": {
     "end_time": "2024-01-17T17:33:05.517218Z",
     "start_time": "2024-01-17T17:33:05.508407Z"
    }
   }
  },
  {
   "cell_type": "markdown",
   "source": [
    "## Q3: JSON Files <span style=\"color:blue\">&nbsp;&nbsp;&nbsp;&nbsp;&nbsp;&nbsp;&nbsp;&nbsp;&nbsp;&nbsp;&nbsp;&nbsp;&nbsp;&nbsp;&nbsp;&nbsp;&nbsp;&nbsp;&nbsp;&nbsp;&nbsp;&nbsp;&nbsp;&nbsp;(30 Points) </span>\n",
    "\n",
    "You are given a JSON file with data about movies. The goal is to use this data and create a visualization of the number of movies in a specific genre per year. The code for the visualization is already given for you. Write the missing functions to make the code work. \n",
    "\n",
    "**def getYears(filename):** Returns the list of years of available data in the specified file. The years are stored as strings.    e.g., [\"2010\", \"2011\", \"2012\", \"2013\"]. <span style=\"color:blue\">(5 Points) </span> \n",
    "\n",
    "**def getGenres (filename):** Returns the set of genres available in the data in the specified file. Duplicates are eliminiated as this is a set. e.g., {\"action\", \"thriller\", \"scifi\"} <span style=\"color:blue\">(10 Points) </span> \n",
    "\n",
    "\n",
    "**def getCountsPerYear (genre, filename)**: Returns a dictionary of items, where the year is the key and the number of movies in the specied genre in that particular year is the value. Example: {'2011':21, '2010':11, '2012':2, 2013:43} <span style=\"color:blue\">(15 Points) </span> \n",
    "    \n",
    "        \n",
    "     \n",
    "### Enter your answer for Q3 in the cell below. Add any additional functions, code you may need. But the entire answer must be in the following three cells."
   ],
   "metadata": {
    "deletable": false,
    "editable": false,
    "render": true
   }
  },
  {
   "cell_type": "code",
   "source": [
    "\n",
    "import json \n",
    "jsonDataFile = \"movies-2020s.json\"\n",
    "\n",
    "def getYears(filename): \n",
    "    with open(filename) as f:\n",
    "        data = json.load(f)\n",
    "    years =[]\n",
    "    for film in data:\n",
    "        year = str(film.get(\"year\"))\n",
    "        if year not in years:\n",
    "            years.append(year)\n",
    "    return(years)\n",
    "    \n",
    "\n",
    "print (getYears (jsonDataFile))"
   ],
   "outputs": [
    {
     "name": "stdout",
     "output_type": "stream",
     "text": [
      "['2020', '2021', '2022', '2023']\n"
     ]
    }
   ],
   "execution_count": 23,
   "metadata": {
    "deletable": false,
    "render": true,
    "ExecuteTime": {
     "end_time": "2024-01-17T17:33:13.061026Z",
     "start_time": "2024-01-17T17:33:13.053563Z"
    }
   }
  },
  {
   "cell_type": "code",
   "source": [
    "def getGenres (filename): \n",
    "    with open(filename) as f:\n",
    "        data = json.load(f)\n",
    "    genres = set()\n",
    "    for movie in data:\n",
    "        for genre in movie.get(\"genres\"):\n",
    "            genres.add(genre)\n",
    "    return genres\n",
    "    \n",
    "print ((getGenres (jsonDataFile)))"
   ],
   "outputs": [
    {
     "name": "stdout",
     "output_type": "stream",
     "text": [
      "{'War', 'Romance', 'Erotic', 'Found Footage', 'Performance', 'Historical', 'Adventure', 'Teen', 'Political', 'Musical', 'Fantasy', 'Western', 'Supernatural', 'Biography', 'Short', 'Martial Arts', 'Horror', 'Live Action', 'Satire', 'Noir', 'Crime', 'Disaster', 'Drama', 'Animated', 'Action', 'Documentary', 'Science Fiction', 'Dance', 'Comedy', 'Slasher', 'Superhero', 'Thriller', 'Sports', 'Legal', 'Mystery', 'Independent', 'Spy', 'Family'}\n"
     ]
    }
   ],
   "execution_count": 24,
   "metadata": {
    "deletable": false,
    "render": true,
    "ExecuteTime": {
     "end_time": "2024-01-17T17:33:15.920726Z",
     "start_time": "2024-01-17T17:33:15.908905Z"
    }
   }
  },
  {
   "cell_type": "code",
   "source": [
    "def getCountsPerYear (genre, filename): \n",
    "    with open(filename) as f:\n",
    "        data = json.load(f)\n",
    "    num_genres = {}\n",
    "    for movie in data :\n",
    "        if genre in movie.get(\"genres\"):\n",
    "            if genre not in num_genres:\n",
    "                num_genres.update({genre:1})\n",
    "            num_genres.update({genre:num_genres.get(genre)+1})\n",
    "    return num_genres\n",
    "print(getCountsPerYear(\"War\",jsonDataFile))"
   ],
   "outputs": [
    {
     "name": "stdout",
     "output_type": "stream",
     "text": [
      "{'War': 26}\n"
     ]
    }
   ],
   "execution_count": 29,
   "metadata": {
    "deletable": false,
    "render": true,
    "ExecuteTime": {
     "end_time": "2024-01-17T17:48:29.386958Z",
     "start_time": "2024-01-17T17:48:29.377641Z"
    }
   }
  },
  {
   "cell_type": "code",
   "source": [
    "# Do not change this cell. It simply plots the data returned by the functions above. \n",
    "\n",
    "\n",
    "import matplotlib.pyplot as plt\n",
    "\n",
    "x = sorted(getYears (jsonDataFile))\n",
    "genres = getGenres(jsonDataFile)\n",
    "\n",
    "# Plotting the data\n",
    "plt.figure(figsize=(8, 6))\n",
    "\n",
    "for g in genres: \n",
    "    # Plotting the first series with label\n",
    "    values = getCountsPerYear(g, jsonDataFile).values() \n",
    "    plt.plot(x, values, label=g, linestyle='-', linewidth=2)\n",
    "\n",
    "\n",
    "# Adding labels and title\n",
    "plt.xlabel('Years')\n",
    "plt.ylabel('Counts')\n",
    "plt.title('Number of films per genre')\n",
    "\n",
    "# Adding a legend\n",
    "plt.legend(genres, loc =\"lower right\")\n",
    "\n",
    "# Display the plot\n",
    "plt.show()"
   ],
   "outputs": [
    {
     "ename": "ModuleNotFoundError",
     "evalue": "No module named 'matplotlib'",
     "output_type": "error",
     "traceback": [
      "\u001B[0;31m---------------------------------------------------------------------------\u001B[0m",
      "\u001B[0;31mModuleNotFoundError\u001B[0m                       Traceback (most recent call last)",
      "Cell \u001B[0;32mIn[26], line 4\u001B[0m\n\u001B[1;32m      1\u001B[0m \u001B[38;5;66;03m# Do not change this cell. It simply plots the data returned by the functions above. \u001B[39;00m\n\u001B[0;32m----> 4\u001B[0m \u001B[38;5;28;01mimport\u001B[39;00m \u001B[38;5;21;01mmatplotlib\u001B[39;00m\u001B[38;5;21;01m.\u001B[39;00m\u001B[38;5;21;01mpyplot\u001B[39;00m \u001B[38;5;28;01mas\u001B[39;00m \u001B[38;5;21;01mplt\u001B[39;00m\n\u001B[1;32m      6\u001B[0m x \u001B[38;5;241m=\u001B[39m \u001B[38;5;28msorted\u001B[39m(getYears (jsonDataFile))\n\u001B[1;32m      7\u001B[0m genres \u001B[38;5;241m=\u001B[39m getGenres(jsonDataFile)\n",
      "\u001B[0;31mModuleNotFoundError\u001B[0m: No module named 'matplotlib'"
     ]
    }
   ],
   "execution_count": 26,
   "metadata": {
    "deletable": false,
    "editable": false,
    "render": true,
    "ExecuteTime": {
     "end_time": "2024-01-17T17:33:42.785255Z",
     "start_time": "2024-01-17T17:33:42.754127Z"
    }
   }
  },
  {
   "cell_type": "markdown",
   "source": [
    "## Q4: Magic Square <span style=\"color:blue\">&nbsp;&nbsp;&nbsp;&nbsp;&nbsp;&nbsp;&nbsp;&nbsp;&nbsp;&nbsp;&nbsp;&nbsp;&nbsp;&nbsp;&nbsp;&nbsp;&nbsp;&nbsp;&nbsp;&nbsp;&nbsp;&nbsp;&nbsp;&nbsp;(20 Points) </span>\n",
    "\n",
    "Consider a magic square in a 3×3 grid (represented by a list of lists) where every row, column, and diagonal sum to the same number. Somebody created such 3x3 magic squares, where exactly one number is missing, and the missing number is denoted by a 0. Write a Python function called \"complete_the_square\", that takes such a list of lists and returns the missing number in the magic square. You are not allowed to use any import statements. \n",
    "\n",
    "Example: \n",
    "\n",
    "    complete_the_square ([[6, 0, 8], [7, 5, 3], [2, 9, 4]]) # returns 1\n",
    "    complete_the_square ([[6, 1, 8], [7, 5, 0], [2, 9, 4]]) # returns 3 \n",
    "    complete_the_square ([[6, 1, 8], [7, 5, 3], [2, 9, 0]]) # returns 4 \n",
    "     \n",
    "### Enter your answer for Q4 in the cell below. Add any additional functions, code you may need. But the entire answer must be in this cell."
   ],
   "metadata": {
    "deletable": false,
    "editable": false,
    "render": true
   }
  },
  {
   "cell_type": "code",
   "source": [
    "\n",
    "def complete_the_square (matrix): \n",
    "    list1 = matrix[0]\n",
    "    list2 = matrix[1]\n",
    "    list3 = matrix[2]\n",
    "    perfect_sum = 15\n",
    "    summ1 = 0\n",
    "    summ2 = 0\n",
    "    summ3 = 0\n",
    "    for arg in list1:\n",
    "        summ1+=arg\n",
    "    for arg in list2:\n",
    "        summ2 +=arg\n",
    "    for arg in list3:\n",
    "        summ3 +=arg\n",
    "    if summ1 != perfect_sum:\n",
    "        return perfect_sum-summ1\n",
    "    elif summ2 != perfect_sum:\n",
    "        return perfect_sum-summ2\n",
    "    elif summ3 != perfect_sum:\n",
    "        return perfect_sum-summ3\n",
    "\n",
    "print (complete_the_square ([[6, 0, 8], [7, 5, 3], [2, 9, 4]])) # returns 1\n",
    "print (complete_the_square ([[6, 1, 8], [7, 5, 0], [2, 9, 4]])) # returns 3 \n",
    "print (complete_the_square ([[6, 1, 8], [7, 5, 3], [2, 9, 0]])) # returns 4 \n",
    "   \n",
    "        "
   ],
   "outputs": [
    {
     "name": "stdout",
     "output_type": "stream",
     "text": [
      "1\n",
      "3\n",
      "4\n"
     ]
    }
   ],
   "execution_count": 27,
   "metadata": {
    "deletable": false,
    "render": true,
    "ExecuteTime": {
     "end_time": "2024-01-17T17:47:16.811373Z",
     "start_time": "2024-01-17T17:47:16.807004Z"
    }
   }
  },
  {
   "cell_type": "code",
   "source": [
    "\n",
    "# this is for grading purposes only! \n",
    "\n",
    "# Checking solution of Q1 \n",
    "\n",
    "assert (checkPrimeInFile(\"sample_list_of_numbers_1.txt\")==464)\n",
    "\n",
    "# Checking solution of Q2 \n",
    "\n",
    "assert (max (reversibles (4))==18)\n",
    "assert (max (reversibles (43))==516)\n",
    "assert (sum (reversibles (100))==49920)\n",
    "\n",
    "# Checking solution of Q3 \n",
    "assert (len (getYears (jsonDataFile))==4)\n",
    "assert (len (getGenres (jsonDataFile))==38)\n",
    "assert (getCountsPerYear (\"Documentary\", jsonDataFile)[\"2021\"]==19)\n",
    "assert (getCountsPerYear (\"Musical\", jsonDataFile)[\"2023\"]==5)\n",
    "assert (sum(getCountsPerYear (\"Sports\", jsonDataFile).values())==29)\n",
    "\n",
    "\n",
    "# Checking solution of Q4 \n",
    "assert (complete_the_square ([[2, 7, 6], [9, 5, 1], [4, 3, 0]])==8) \n",
    "assert (complete_the_square ([[5, 0, 3], [4, 6, 8], [9, 2, 7]])==10)\n",
    "assert (complete_the_square ([[12, 14, 4], [0, 10, 18], [16, 6, 8]])==2)\n"
   ],
   "outputs": [
    {
     "ename": "KeyError",
     "evalue": "'2021'",
     "output_type": "error",
     "traceback": [
      "\u001B[0;31m---------------------------------------------------------------------------\u001B[0m",
      "\u001B[0;31mKeyError\u001B[0m                                  Traceback (most recent call last)",
      "Cell \u001B[0;32mIn[28], line 16\u001B[0m\n\u001B[1;32m     14\u001B[0m \u001B[38;5;28;01massert\u001B[39;00m (\u001B[38;5;28mlen\u001B[39m (getYears (jsonDataFile))\u001B[38;5;241m==\u001B[39m\u001B[38;5;241m4\u001B[39m)\n\u001B[1;32m     15\u001B[0m \u001B[38;5;28;01massert\u001B[39;00m (\u001B[38;5;28mlen\u001B[39m (getGenres (jsonDataFile))\u001B[38;5;241m==\u001B[39m\u001B[38;5;241m38\u001B[39m)\n\u001B[0;32m---> 16\u001B[0m \u001B[38;5;28;01massert\u001B[39;00m (\u001B[43mgetCountsPerYear\u001B[49m\u001B[43m \u001B[49m\u001B[43m(\u001B[49m\u001B[38;5;124;43m\"\u001B[39;49m\u001B[38;5;124;43mDocumentary\u001B[39;49m\u001B[38;5;124;43m\"\u001B[39;49m\u001B[43m,\u001B[49m\u001B[43m \u001B[49m\u001B[43mjsonDataFile\u001B[49m\u001B[43m)\u001B[49m\u001B[43m[\u001B[49m\u001B[38;5;124;43m\"\u001B[39;49m\u001B[38;5;124;43m2021\u001B[39;49m\u001B[38;5;124;43m\"\u001B[39;49m\u001B[43m]\u001B[49m\u001B[38;5;241m==\u001B[39m\u001B[38;5;241m19\u001B[39m)\n\u001B[1;32m     17\u001B[0m \u001B[38;5;28;01massert\u001B[39;00m (getCountsPerYear (\u001B[38;5;124m\"\u001B[39m\u001B[38;5;124mMusical\u001B[39m\u001B[38;5;124m\"\u001B[39m, jsonDataFile)[\u001B[38;5;124m\"\u001B[39m\u001B[38;5;124m2023\u001B[39m\u001B[38;5;124m\"\u001B[39m]\u001B[38;5;241m==\u001B[39m\u001B[38;5;241m5\u001B[39m)\n\u001B[1;32m     18\u001B[0m \u001B[38;5;28;01massert\u001B[39;00m (\u001B[38;5;28msum\u001B[39m(getCountsPerYear (\u001B[38;5;124m\"\u001B[39m\u001B[38;5;124mSports\u001B[39m\u001B[38;5;124m\"\u001B[39m, jsonDataFile)\u001B[38;5;241m.\u001B[39mvalues())\u001B[38;5;241m==\u001B[39m\u001B[38;5;241m29\u001B[39m)\n",
      "\u001B[0;31mKeyError\u001B[0m: '2021'"
     ]
    }
   ],
   "execution_count": 28,
   "metadata": {
    "deletable": false,
    "editable": false,
    "render": true,
    "ExecuteTime": {
     "end_time": "2024-01-17T17:47:20.903681Z",
     "start_time": "2024-01-17T17:47:20.833146Z"
    }
   }
  },
  {
   "cell_type": "code",
   "outputs": [],
   "source": [],
   "metadata": {
    "collapsed": false
   }
  }
 ],
 "metadata": {
  "celltoolbar": "Edit Metadata",
  "kernelspec": {
   "name": "python3",
   "language": "python",
   "display_name": "Python 3 (ipykernel)"
  },
  "language_info": {
   "codemirror_mode": {
    "name": "python",
    "version": 3
   },
   "file_extension": ".py",
   "mimetype": "text/x-python",
   "name": "python",
   "nbconvert_exporter": "python",
   "pygments_lexer": "ipython3",
   "version": "3.8"
  },
  "nteract": {
   "version": "nteract-front-end@1.0.0"
  },
  "kernel_info": {
   "name": "python"
  }
 },
 "nbformat": 4,
 "nbformat_minor": 4
}
