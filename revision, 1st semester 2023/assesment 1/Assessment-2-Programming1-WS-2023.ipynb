{
 "cells": [
  {
   "cell_type": "markdown",
   "metadata": {
    "deletable": false,
    "editable": false,
    "render": true
   },
   "source": [
    "# Programming 1\n",
    "\n",
    "> ### Assessment 2, 13.12.2023\n",
    "Timed: 90 Minutes (1 Minute per point allocated to the question)\n",
    "\n"
   ]
  },
  {
   "cell_type": "markdown",
   "metadata": {
    "deletable": false,
    "render": true
   },
   "source": [
    "## <span style=\"color:red\">Student Name</span>\n",
    "> Enter your name here \n",
    "## <span style=\"color:red\">Student ID</span>\n",
    "> Enter your ID here"
   ]
  },
  {
   "cell_type": "markdown",
   "metadata": {
    "deletable": false,
    "render": true
   },
   "source": [
    "## Objective of this assessment\n",
    "\n",
    "Ensure that the students have gained the necessary programming skills during the semester by practising the optional exercises provided. \n",
    "\n",
    "> This is a offline open book exam. Students are not allowed to access the internet during the exam. Any external help, e.g., Google, ChatGPT etc is strictly prohibited. Do not submit any code you may have prepared before the exam! All exercises are meant to be solved during the exam - <span style=\"color:red\">I N D I V I D U A L L Y! </span> \n",
    "\n",
    "### Points overview \n",
    "Total: 90 \n",
    "\n",
    "|Questions| Q1 | Q2.1 | Q2.2 | Q2.3 | Q3 | Q4 |\n",
    "| --- | --- | --- | --- | --- | --- | --- |\n",
    "|Points| 20 | 5 | 10 | 15 | 20 | 20 |\n"
   ]
  },
  {
   "cell_type": "markdown",
   "metadata": {
    "deletable": false,
    "editable": false,
    "render": true
   },
   "source": [
    "## Q1: Working with Files <span style=\"color:blue\">&nbsp;&nbsp;&nbsp;&nbsp;&nbsp;&nbsp;&nbsp;&nbsp;&nbsp;&nbsp;&nbsp;&nbsp;&nbsp;&nbsp;&nbsp;&nbsp;&nbsp;&nbsp;&nbsp;&nbsp;&nbsp;&nbsp;&nbsp;&nbsp;(20 Points) </span>\n",
    "\n",
    "\n",
    "Given is a Python Function to check whether a given number is a prime number. In number theory, A prime number is defined as a natural number greater than 1 and is divisible by only 1 and itself. First few prime numbers are 2, 3, 5, 7, 11, 13, 17, 19, 23 . . .\n",
    "\n",
    "Write a Python function called **checkPrimeInFile (filename)** which counts the total number of prime numbers in the given file. You are given a text file with random numbers to test this function. Feel free to use the given function **isPrime**  for your convenience. \n",
    "\n",
    "**Hint**: The given file also contains some text, make sure your program does not crash. Just ignore the parts that is not a number. \n"
   ]
  },
  {
   "cell_type": "code",
   "execution_count": null,
   "metadata": {
    "deletable": false,
    "editable": false,
    "render": true
   },
   "outputs": [],
   "source": [
    "# Do not change this cell, this is given for reference, feel free to use the function in your solution. \n",
    "def isPrime(number):\n",
    "    \"\"\"Check if a number is prime.\"\"\"\n",
    "    if number <= 1:\n",
    "        return False  # Numbers less than or equal to 1 are not prime\n",
    "\n",
    "    for i in range(2, int(number**0.5) + 1):\n",
    "        if number % i == 0:\n",
    "            return False  # If the number is divisible by any integer in this range, it's not prime\n",
    "\n",
    "    return True  # If no divisors are found, the number is prime\n",
    "\n",
    "print (isPrime(132))\n",
    "print (isPrime(13))\n"
   ]
  },
  {
   "cell_type": "markdown",
   "metadata": {
    "deletable": false,
    "editable": false,
    "render": true
   },
   "source": [
    "### Enter your answer for Q1 in the cell below. Add any additional functions, code you may need. But the entire answer must be in this cell."
   ]
  },
  {
   "cell_type": "code",
   "execution_count": null,
   "metadata": {
    "deletable": false,
    "render": true
   },
   "outputs": [],
   "source": [
    "\n",
    "# Solution for Q1\n",
    "def checkPrimeInFile (name):\n",
    "    pass\n",
    "        \n",
    "\n",
    "\n",
    "# Test your code \n",
    "print (checkPrimeInFile(\"sample_list_of_numbers_1.txt\"))\n"
   ]
  },
  {
   "cell_type": "markdown",
   "metadata": {
    "deletable": false,
    "editable": false,
    "render": true
   },
   "source": [
    "## Q2: Reversible Numbers <span style=\"color:blue\">&nbsp;&nbsp;&nbsp;&nbsp;&nbsp;&nbsp;&nbsp;&nbsp;&nbsp;&nbsp;&nbsp;&nbsp;&nbsp;&nbsp;&nbsp;&nbsp;&nbsp;&nbsp;&nbsp;&nbsp;&nbsp;&nbsp;&nbsp;&nbsp;(20 Points) </span>\n",
    "\n",
    "Some positive integers **n** have the property that the **sum (n + reverse (n))** consists entirely of odd decimal digits. We will call such numbers reversible.Leading zeors are not allowed in either n or reverse (n), where reverse (n) represents the number formed by arranging the digits of n in reverse order.\n",
    "\n",
    "For instance, 36 + 63 = 99 and 409 + 904 = 1313. Similarly, 36, 63, 409 and 904 are reversible numbers.  \n",
    "\n",
    "**Hint:** There are 120 reversible numbers below 1000. \n",
    "\n",
    "Write a Python Function called **reversibles(n)** that returns a list of **n** reversible numbers. \n",
    "\n",
    "For example, the following code snippet should print 10 reversible numbers: \n",
    "\n",
    "    for x in reversibles (10): \n",
    "        print (x) \n",
    "        \n",
    "### Enter your answer for Q2 in the cell below. Add any additional functions, code you may need. But the entire answer must be in this cell."
   ]
  },
  {
   "cell_type": "code",
   "execution_count": null,
   "metadata": {
    "deletable": false,
    "render": true
   },
   "outputs": [],
   "source": [
    "# Solution for Q2\n",
    "def reversibles (n):\n",
    "    pass \n",
    "\n",
    "for x in reversibles (4):\n",
    "    print (x )\n",
    "\n",
    "\n",
    "#Hint: There are 120 reversible numbers below 1000.\n",
    "\n",
    "\n"
   ]
  },
  {
   "cell_type": "markdown",
   "metadata": {
    "deletable": false,
    "editable": false,
    "render": true
   },
   "source": [
    "## Q3: JSON Files <span style=\"color:blue\">&nbsp;&nbsp;&nbsp;&nbsp;&nbsp;&nbsp;&nbsp;&nbsp;&nbsp;&nbsp;&nbsp;&nbsp;&nbsp;&nbsp;&nbsp;&nbsp;&nbsp;&nbsp;&nbsp;&nbsp;&nbsp;&nbsp;&nbsp;&nbsp;(30 Points) </span>\n",
    "\n",
    "You are given a JSON file with data about movies. The goal is to use this data and create a visualization of the number of movies in a specific genre per year. The code for the visualization is already given for you. Write the missing functions to make the code work. \n",
    "\n",
    "**def getYears(filename):** Returns the list of years of available data in the specified file. The years are stored as strings.    e.g., [\"2010\", \"2011\", \"2012\", \"2013\"]. <span style=\"color:blue\">(5 Points) </span> \n",
    "\n",
    "**def getGenres (filename):** Returns the set of genres available in the data in the specified file. Duplicates are eliminiated as this is a set. e.g., {\"action\", \"thriller\", \"scifi\"} <span style=\"color:blue\">(10 Points) </span> \n",
    "\n",
    "\n",
    "**def getCountsPerYear (genre, filename)**: Returns a dictionary of items, where the year is the key and the number of movies in the specied genre in that particular year is the value. Example: {'2011':21, '2010':11, '2012':2, 2013:43} <span style=\"color:blue\">(15 Points) </span> \n",
    "    \n",
    "        \n",
    "     \n",
    "### Enter your answer for Q3 in the cell below. Add any additional functions, code you may need. But the entire answer must be in the following three cells."
   ]
  },
  {
   "cell_type": "code",
   "execution_count": null,
   "metadata": {
    "deletable": false,
    "render": true
   },
   "outputs": [],
   "source": [
    "\n",
    "import json \n",
    "jsonDataFile = \"movies-2020s.json\"\n",
    "\n",
    "def getYears(filename): \n",
    "    '''Returns the list of years of available data. The years are stored as strings.\n",
    "    e.g., [\"2010\", \"2011\", \"2012\", \"2013\"] '''\n",
    "    # replace the hard-coded list below to calculate the values based on real data from the file \n",
    "    return [\"2010\", \"2011\", \"2012\", \"2013\"] \n",
    "    \n",
    "\n",
    "print (getYears (jsonDataFile))"
   ]
  },
  {
   "cell_type": "code",
   "execution_count": null,
   "metadata": {
    "deletable": false,
    "render": true
   },
   "outputs": [],
   "source": [
    "def getGenres (filename): \n",
    "    '''Returns the set of genres available in the data. Duplicates are eliminiated as this is a set'''\n",
    "    # replace the hard-coded set below to calculate the values based on real data from the file \n",
    "    return  {\"action\", \"thriller\", \"scifi\"}\n",
    "    \n",
    "print ((getGenres (jsonDataFile)))"
   ]
  },
  {
   "cell_type": "code",
   "execution_count": null,
   "metadata": {
    "deletable": false,
    "render": true
   },
   "outputs": [],
   "source": [
    "def getCountsPerYear (genre, filename): \n",
    "    ''' Returns a dictionary of items, where the year is the key \n",
    "    and the number of movies in the specied genre in that particular year is the value. \n",
    "    Example: {'2011':21, '2010':11, '2012':2, 2013:43}  '''\n",
    "    # replace the hard-coded dictionary below to calculate the values based on real data from the file \n",
    "    return {'2011':21, '2010':11, '2012':2, '2013':43}"
   ]
  },
  {
   "cell_type": "code",
   "execution_count": null,
   "metadata": {
    "deletable": false,
    "editable": false,
    "render": true
   },
   "outputs": [],
   "source": [
    "# Do not change this cell. It simply plots the data returned by the functions above. \n",
    "\n",
    "\n",
    "import matplotlib.pyplot as plt\n",
    "\n",
    "x = sorted(getYears (jsonDataFile))\n",
    "genres = getGenres(jsonDataFile)\n",
    "\n",
    "# Plotting the data\n",
    "plt.figure(figsize=(8, 6))\n",
    "\n",
    "for g in genres: \n",
    "    # Plotting the first series with label\n",
    "    values = getCountsPerYear(g, jsonDataFile).values() \n",
    "    plt.plot(x, values, label=g, linestyle='-', linewidth=2)\n",
    "\n",
    "\n",
    "# Adding labels and title\n",
    "plt.xlabel('Years')\n",
    "plt.ylabel('Counts')\n",
    "plt.title('Number of films per genre')\n",
    "\n",
    "# Adding a legend\n",
    "plt.legend(genres, loc =\"lower right\")\n",
    "\n",
    "# Display the plot\n",
    "plt.show()"
   ]
  },
  {
   "cell_type": "markdown",
   "metadata": {
    "deletable": false,
    "editable": false,
    "render": true
   },
   "source": [
    "## Q4: Magic Square <span style=\"color:blue\">&nbsp;&nbsp;&nbsp;&nbsp;&nbsp;&nbsp;&nbsp;&nbsp;&nbsp;&nbsp;&nbsp;&nbsp;&nbsp;&nbsp;&nbsp;&nbsp;&nbsp;&nbsp;&nbsp;&nbsp;&nbsp;&nbsp;&nbsp;&nbsp;(20 Points) </span>\n",
    "\n",
    "Consider a magic square in a 3×3 grid (represented by a list of lists) where every row, column, and diagonal sum to the same number. Somebody created such 3x3 magic squares, where exactly one number is missing, and the missing number is denoted by a 0. Write a Python function called \"complete_the_square\", that takes such a list of lists and returns the missing number in the magic square. You are not allowed to use any import statements. \n",
    "\n",
    "Example: \n",
    "\n",
    "    complete_the_square ([[6, 0, 8], [7, 5, 3], [2, 9, 4]]) # returns 1\n",
    "    complete_the_square ([[6, 1, 8], [7, 5, 0], [2, 9, 4]]) # returns 3 \n",
    "    complete_the_square ([[6, 1, 8], [7, 5, 3], [2, 9, 0]]) # returns 4 \n",
    "     \n",
    "### Enter your answer for Q4 in the cell below. Add any additional functions, code you may need. But the entire answer must be in this cell."
   ]
  },
  {
   "cell_type": "code",
   "execution_count": null,
   "metadata": {
    "deletable": false,
    "render": true
   },
   "outputs": [],
   "source": [
    "\n",
    "def complete_the_square (matrix): \n",
    "    pass\n",
    "\n",
    "print (complete_the_square ([[6, 0, 8], [7, 5, 3], [2, 9, 4]])) # returns 1\n",
    "print (complete_the_square ([[6, 1, 8], [7, 5, 0], [2, 9, 4]])) # returns 3 \n",
    "print (complete_the_square ([[6, 1, 8], [7, 5, 3], [2, 9, 0]])) # returns 4 \n",
    "   \n",
    "        "
   ]
  },
  {
   "cell_type": "code",
   "execution_count": null,
   "metadata": {
    "deletable": false,
    "editable": false,
    "render": true
   },
   "outputs": [],
   "source": [
    "\n",
    "# this is for grading purposes only! \n",
    "\n",
    "# Checking solution of Q1 \n",
    "\n",
    "assert (checkPrimeInFile(\"sample_list_of_numbers_1.txt\")==464)\n",
    "\n",
    "# Checking solution of Q2 \n",
    "\n",
    "assert (max (reversibles (4))==18)\n",
    "assert (max (reversibles (43))==516)\n",
    "assert (sum (reversibles (100))==49920)\n",
    "\n",
    "# Checking solution of Q3 \n",
    "assert (len (getYears (jsonDataFile))==4)\n",
    "assert (len (getGenres (jsonDataFile))==38)\n",
    "assert (getCountsPerYear (\"Documentary\", jsonDataFile)[\"2021\"]==19)\n",
    "assert (getCountsPerYear (\"Musical\", jsonDataFile)[\"2023\"]==5)\n",
    "assert (sum(getCountsPerYear (\"Sports\", jsonDataFile).values())==29)\n",
    "\n",
    "\n",
    "# Checking solution of Q4 \n",
    "assert (complete_the_square ([[2, 7, 6], [9, 5, 1], [4, 3, 0]])==8) \n",
    "assert (complete_the_square ([[5, 0, 3], [4, 6, 8], [9, 2, 7]])==10)\n",
    "assert (complete_the_square ([[12, 14, 4], [0, 10, 18], [16, 6, 8]])==2)\n"
   ]
  }
 ],
 "metadata": {
  "celltoolbar": "Edit Metadata",
  "kernelspec": {
   "display_name": "Python 3 (ipykernel)",
   "language": "python",
   "name": "python3"
  },
  "language_info": {
   "codemirror_mode": {
    "name": "ipython",
    "version": 3
   },
   "file_extension": ".py",
   "mimetype": "text/x-python",
   "name": "python",
   "nbconvert_exporter": "python",
   "pygments_lexer": "ipython3",
   "version": "3.11.5"
  }
 },
 "nbformat": 4,
 "nbformat_minor": 1
}
